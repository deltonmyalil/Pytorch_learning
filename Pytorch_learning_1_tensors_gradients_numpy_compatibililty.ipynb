{
  "nbformat": 4,
  "nbformat_minor": 0,
  "metadata": {
    "colab": {
      "name": "Pytorch_learning_1_tensors_gradients_numpy_compatibililty.ipynb",
      "provenance": [],
      "authorship_tag": "ABX9TyNcVjbbJmRyu7NnbeGc/6Xw"
    },
    "kernelspec": {
      "name": "python3",
      "display_name": "Python 3"
    }
  },
  "cells": [
    {
      "cell_type": "markdown",
      "metadata": {
        "id": "XK3I2YJiAxk3",
        "colab_type": "text"
      },
      "source": [
        "# Pytorch Tutorials\n",
        "Nothing to see here, just documenting the learning I am doing for pytorch. Most of my friends say pytorch is infinitely easier than tensorflow. Let's see how easy it is gonna be. At present, I am in lockdown, and so bored I even started to clean my room. Soon that turned into a treasure hunt. From old love letters to a small bottle of sodium dipped in almost dried up kerosene, I went down the memory lane. The past is like a broken mirror. The more you explore it, the more you cut yourself and all you see is a broken reflection staring right back at you. \n",
        "\n",
        "So, this is me, sitting at home and breaking the chain of COVID-19. Time to learn Pytorch, because just Tensorflow alone is not gonna cut it anymore. Mostly because I don't wanna clean my room anymore."
      ]
    },
    {
      "cell_type": "code",
      "metadata": {
        "id": "w0p6JTYBCSHU",
        "colab_type": "code",
        "colab": {}
      },
      "source": [
        "# here we go\n",
        "import torch"
      ],
      "execution_count": 0,
      "outputs": []
    },
    {
      "cell_type": "markdown",
      "metadata": {
        "id": "RZ9gTP7MF0LR",
        "colab_type": "text"
      },
      "source": [
        "## Tensors"
      ]
    },
    {
      "cell_type": "code",
      "metadata": {
        "id": "RlYqKnu3Cusn",
        "colab_type": "code",
        "colab": {
          "base_uri": "https://localhost:8080/",
          "height": 89
        },
        "outputId": "924a3c62-9302-4825-d7ef-c7828a465731"
      },
      "source": [
        "# obligatory tensor initialization\n",
        "t1 = torch.tensor(4.0)\n",
        "print(t1)\n",
        "print(t1.dtype)\n",
        "print(t1.shape)\n",
        "t11 = torch.tensor(5); print(t11.dtype) # No surprises there"
      ],
      "execution_count": 2,
      "outputs": [
        {
          "output_type": "stream",
          "text": [
            "tensor(4.)\n",
            "torch.float32\n",
            "torch.Size([])\n",
            "torch.int64\n"
          ],
          "name": "stdout"
        }
      ]
    },
    {
      "cell_type": "code",
      "metadata": {
        "id": "c3IEbQ1hDW3K",
        "colab_type": "code",
        "colab": {
          "base_uri": "https://localhost:8080/",
          "height": 35
        },
        "outputId": "28662c08-ecc9-47ca-c7c0-f1d7f4df313d"
      },
      "source": [
        "t2 = torch.tensor([1,2,3,4.0]); t2 # Vector"
      ],
      "execution_count": 3,
      "outputs": [
        {
          "output_type": "execute_result",
          "data": {
            "text/plain": [
              "tensor([1., 2., 3., 4.])"
            ]
          },
          "metadata": {
            "tags": []
          },
          "execution_count": 3
        }
      ]
    },
    {
      "cell_type": "code",
      "metadata": {
        "id": "IIPEO-jKFYYB",
        "colab_type": "code",
        "colab": {
          "base_uri": "https://localhost:8080/",
          "height": 35
        },
        "outputId": "1a23b2f5-2306-48b3-da01-c3b6f58bffc8"
      },
      "source": [
        "t2.shape"
      ],
      "execution_count": 4,
      "outputs": [
        {
          "output_type": "execute_result",
          "data": {
            "text/plain": [
              "torch.Size([4])"
            ]
          },
          "metadata": {
            "tags": []
          },
          "execution_count": 4
        }
      ]
    },
    {
      "cell_type": "code",
      "metadata": {
        "id": "VKF58KNmDh5R",
        "colab_type": "code",
        "colab": {
          "base_uri": "https://localhost:8080/",
          "height": 53
        },
        "outputId": "535aad56-1ca7-4e78-986c-1e1e7f441ef8"
      },
      "source": [
        "t3 = torch.tensor([[1,2],[3, 4.0]]); t3 # Matrix"
      ],
      "execution_count": 5,
      "outputs": [
        {
          "output_type": "execute_result",
          "data": {
            "text/plain": [
              "tensor([[1., 2.],\n",
              "        [3., 4.]])"
            ]
          },
          "metadata": {
            "tags": []
          },
          "execution_count": 5
        }
      ]
    },
    {
      "cell_type": "code",
      "metadata": {
        "id": "zchwDSjBFjQ0",
        "colab_type": "code",
        "colab": {
          "base_uri": "https://localhost:8080/",
          "height": 35
        },
        "outputId": "fd3285b6-c0e4-4582-ddb0-90fb56e3d51f"
      },
      "source": [
        "t3.shape"
      ],
      "execution_count": 6,
      "outputs": [
        {
          "output_type": "execute_result",
          "data": {
            "text/plain": [
              "torch.Size([2, 2])"
            ]
          },
          "metadata": {
            "tags": []
          },
          "execution_count": 6
        }
      ]
    },
    {
      "cell_type": "markdown",
      "metadata": {
        "id": "ndAdRi6eDvKK",
        "colab_type": "text"
      },
      "source": [
        "Note that all the elements are converted implicitly to float32. I guess tensor is homogenous. Also, it is really eager (LOL). But right now, with tf2.0 I take eager execution for granted even when it was a pain right up the 'kernel' earlier in 1.13."
      ]
    },
    {
      "cell_type": "code",
      "metadata": {
        "id": "6OE9nFpAD5eD",
        "colab_type": "code",
        "colab": {}
      },
      "source": [
        "# This one successfully failed.\n",
        "# t_fail = torch.tensor([1,2],[3]) # So, tensors should be of fixed shape. Cool."
      ],
      "execution_count": 0,
      "outputs": []
    },
    {
      "cell_type": "markdown",
      "metadata": {
        "id": "1WRrKmfmFwWj",
        "colab_type": "text"
      },
      "source": [
        "## Tensor Operations"
      ]
    },
    {
      "cell_type": "code",
      "metadata": {
        "id": "kMlDXpW6F3iB",
        "colab_type": "code",
        "colab": {
          "base_uri": "https://localhost:8080/",
          "height": 35
        },
        "outputId": "8bd92705-e139-4103-b18f-9ac29010c901"
      },
      "source": [
        "x = torch.tensor(2.0)\n",
        "w = torch.tensor(3.0)\n",
        "b = torch.tensor(4.0)\n",
        "x,w,b"
      ],
      "execution_count": 8,
      "outputs": [
        {
          "output_type": "execute_result",
          "data": {
            "text/plain": [
              "(tensor(2.), tensor(3.), tensor(4.))"
            ]
          },
          "metadata": {
            "tags": []
          },
          "execution_count": 8
        }
      ]
    },
    {
      "cell_type": "code",
      "metadata": {
        "id": "JDnd7lLqGPMo",
        "colab_type": "code",
        "colab": {
          "base_uri": "https://localhost:8080/",
          "height": 35
        },
        "outputId": "45123742-4a7e-41ba-be2a-9d8d7f92ee29"
      },
      "source": [
        "# Obligatiory wx+b\n",
        "y = w*x + b; y"
      ],
      "execution_count": 9,
      "outputs": [
        {
          "output_type": "execute_result",
          "data": {
            "text/plain": [
              "tensor(10.)"
            ]
          },
          "metadata": {
            "tags": []
          },
          "execution_count": 9
        }
      ]
    },
    {
      "cell_type": "markdown",
      "metadata": {
        "id": "nZp27gonGxGD",
        "colab_type": "text"
      },
      "source": [
        "## Differentiation"
      ]
    },
    {
      "cell_type": "code",
      "metadata": {
        "id": "sW5k6Z1QG0iC",
        "colab_type": "code",
        "colab": {
          "base_uri": "https://localhost:8080/",
          "height": 35
        },
        "outputId": "8991637b-0ad5-4a33-ed82-a1503de09403"
      },
      "source": [
        "# If autograd should record operations on the returned tensor, requires_grad = True\n",
        "x = torch.tensor(2.0)\n",
        "w = torch.tensor(3.0, requires_grad=True) \n",
        "b = torch.tensor(4.0, requires_grad=True)\n",
        "x, w, b"
      ],
      "execution_count": 10,
      "outputs": [
        {
          "output_type": "execute_result",
          "data": {
            "text/plain": [
              "(tensor(2.), tensor(3., requires_grad=True), tensor(4., requires_grad=True))"
            ]
          },
          "metadata": {
            "tags": []
          },
          "execution_count": 10
        }
      ]
    },
    {
      "cell_type": "code",
      "metadata": {
        "id": "Z96roWA9G5nj",
        "colab_type": "code",
        "colab": {
          "base_uri": "https://localhost:8080/",
          "height": 35
        },
        "outputId": "1721b059-9bb0-4f01-ddd8-e1007f3c263b"
      },
      "source": [
        "y = w*x + b; y"
      ],
      "execution_count": 11,
      "outputs": [
        {
          "output_type": "execute_result",
          "data": {
            "text/plain": [
              "tensor(10., grad_fn=<AddBackward0>)"
            ]
          },
          "metadata": {
            "tags": []
          },
          "execution_count": 11
        }
      ]
    },
    {
      "cell_type": "markdown",
      "metadata": {
        "id": "XY5AjuLSJ03f",
        "colab_type": "text"
      },
      "source": [
        "To compute the derivatives, call .backwards() function on the result y"
      ]
    },
    {
      "cell_type": "code",
      "metadata": {
        "id": "f2RX48vDJ7pm",
        "colab_type": "code",
        "colab": {}
      },
      "source": [
        "y.backward()"
      ],
      "execution_count": 0,
      "outputs": []
    },
    {
      "cell_type": "markdown",
      "metadata": {
        "id": "rFq1xfBNIEE1",
        "colab_type": "text"
      },
      "source": [
        "Derivatives of y with respect to x, w, b are stored in the x.grad,... of the tensors"
      ]
    },
    {
      "cell_type": "code",
      "metadata": {
        "id": "ZilmU2ZoIVC6",
        "colab_type": "code",
        "colab": {
          "base_uri": "https://localhost:8080/",
          "height": 71
        },
        "outputId": "5f89c56b-21c5-4a1f-a910-ed0793bf1d92"
      },
      "source": [
        "print('dy/dx = ', x.grad) # Will return none  because we did not put requires_grad there\n",
        "print('dy/dw = ', w.grad)\n",
        "print('dy/db = ', b.grad)"
      ],
      "execution_count": 14,
      "outputs": [
        {
          "output_type": "stream",
          "text": [
            "dy/dx =  None\n",
            "dy/dw =  tensor(2.)\n",
            "dy/db =  tensor(1.)\n"
          ],
          "name": "stdout"
        }
      ]
    },
    {
      "cell_type": "markdown",
      "metadata": {
        "id": "fMa2oTL4KjII",
        "colab_type": "text"
      },
      "source": [
        "## Besties with Numpy"
      ]
    },
    {
      "cell_type": "code",
      "metadata": {
        "id": "HbM_IQW8Knil",
        "colab_type": "code",
        "colab": {
          "base_uri": "https://localhost:8080/",
          "height": 53
        },
        "outputId": "9a5b0ead-618a-49c5-f6a5-c36eb032dec1"
      },
      "source": [
        "import numpy as np # Ah sh!t, here we go again\n",
        "x = np.array([[1,2], [3,4.]]); x"
      ],
      "execution_count": 15,
      "outputs": [
        {
          "output_type": "execute_result",
          "data": {
            "text/plain": [
              "array([[1., 2.],\n",
              "       [3., 4.]])"
            ]
          },
          "metadata": {
            "tags": []
          },
          "execution_count": 15
        }
      ]
    },
    {
      "cell_type": "markdown",
      "metadata": {
        "id": "LN-JAJvhLq-L",
        "colab_type": "text"
      },
      "source": [
        "Converting numpy array to torch tensor"
      ]
    },
    {
      "cell_type": "code",
      "metadata": {
        "id": "w-j3zEc7K7Ke",
        "colab_type": "code",
        "colab": {
          "base_uri": "https://localhost:8080/",
          "height": 53
        },
        "outputId": "cca21aaf-f983-41ce-d439-c47a3eb00fa4"
      },
      "source": [
        "y = torch.from_numpy(x); y"
      ],
      "execution_count": 16,
      "outputs": [
        {
          "output_type": "execute_result",
          "data": {
            "text/plain": [
              "tensor([[1., 2.],\n",
              "        [3., 4.]], dtype=torch.float64)"
            ]
          },
          "metadata": {
            "tags": []
          },
          "execution_count": 16
        }
      ]
    },
    {
      "cell_type": "code",
      "metadata": {
        "id": "W5pddhvtLMFM",
        "colab_type": "code",
        "colab": {
          "base_uri": "https://localhost:8080/",
          "height": 35
        },
        "outputId": "9cf50987-bb7f-469c-9e46-fe5b96f27a42"
      },
      "source": [
        "x.dtype, y.dtype"
      ],
      "execution_count": 17,
      "outputs": [
        {
          "output_type": "execute_result",
          "data": {
            "text/plain": [
              "(dtype('float64'), torch.float64)"
            ]
          },
          "metadata": {
            "tags": []
          },
          "execution_count": 17
        }
      ]
    },
    {
      "cell_type": "markdown",
      "metadata": {
        "id": "tOKsX564LwUd",
        "colab_type": "text"
      },
      "source": [
        "Converting torch tensor to numpy array"
      ]
    },
    {
      "cell_type": "code",
      "metadata": {
        "id": "eKLsB4VTL0Sm",
        "colab_type": "code",
        "colab": {
          "base_uri": "https://localhost:8080/",
          "height": 53
        },
        "outputId": "ed43f437-4030-4668-cdab-666ef9523eff"
      },
      "source": [
        "z = y.numpy(); z"
      ],
      "execution_count": 18,
      "outputs": [
        {
          "output_type": "execute_result",
          "data": {
            "text/plain": [
              "array([[1., 2.],\n",
              "       [3., 4.]])"
            ]
          },
          "metadata": {
            "tags": []
          },
          "execution_count": 18
        }
      ]
    },
    {
      "cell_type": "code",
      "metadata": {
        "id": "uIi4eB1ML4oC",
        "colab_type": "code",
        "colab": {}
      },
      "source": [
        ""
      ],
      "execution_count": 0,
      "outputs": []
    }
  ]
}