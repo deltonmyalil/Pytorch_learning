{
  "nbformat": 4,
  "nbformat_minor": 0,
  "metadata": {
    "colab": {
      "name": "Pytorch_learning_5_gpu_trial.ipynb",
      "provenance": [],
      "authorship_tag": "ABX9TyM1Rk2R+gJd+OTrstl4xgYs"
    },
    "kernelspec": {
      "name": "python3",
      "display_name": "Python 3"
    },
    "accelerator": "GPU"
  },
  "cells": [
    {
      "cell_type": "markdown",
      "metadata": {
        "id": "0t4zFWm_HWmk",
        "colab_type": "text"
      },
      "source": [
        "# Back to MNIST again\n",
        "Learning to work with GPUs because apparently this is also different from the traditional autodetect gpu0 I'm used to."
      ]
    },
    {
      "cell_type": "code",
      "metadata": {
        "id": "hXmwV_kzH-rL",
        "colab_type": "code",
        "colab": {}
      },
      "source": [
        "import torch\n",
        "import torchvision\n",
        "import numpy as np\n",
        "import pandas as pd\n",
        "import matplotlib.pyplot as plt\n",
        "import torch.nn as nn\n",
        "%matplotlib inline\n",
        "\n",
        "from torchvision.datasets import MNIST\n",
        "from torchvision.transforms import ToTensor\n",
        "dataset = MNIST(root='data/', download=True, transform=ToTensor())"
      ],
      "execution_count": 1,
      "outputs": []
    },
    {
      "cell_type": "code",
      "metadata": {
        "id": "ykSmNi7fI7lQ",
        "colab_type": "code",
        "colab": {
          "base_uri": "https://localhost:8080/",
          "height": 34
        },
        "outputId": "cb29e53f-65d6-4f67-b2ea-808800ec9081"
      },
      "source": [
        "# TT split\n",
        "val_size = 10000\n",
        "train_size = len(dataset) - val_size\n",
        "\n",
        "from torch.utils.data import random_split\n",
        "train_ds, val_ds = random_split(dataset, [train_size, val_size])\n",
        "len(train_ds), len(val_ds)"
      ],
      "execution_count": 2,
      "outputs": [
        {
          "output_type": "execute_result",
          "data": {
            "text/plain": [
              "(50000, 10000)"
            ]
          },
          "metadata": {
            "tags": []
          },
          "execution_count": 2
        }
      ]
    },
    {
      "cell_type": "code",
      "metadata": {
        "id": "skLuBFwPJfew",
        "colab_type": "code",
        "colab": {}
      },
      "source": [
        "# Creating dataloaders\n",
        "batch_size = 128\n",
        "\n",
        "from torch.utils.data.dataloader import DataLoader\n",
        "# If pin_memory=True, the data loader will copy Tensors into CUDA pinned memory before returning them.\n",
        "train_loader = DataLoader(train_ds, batch_size, shuffle=True, num_workers=4, pin_memory=True)\n",
        "val_loader = DataLoader(val_ds, batch_size*2, num_workers=4, pin_memory=True)"
      ],
      "execution_count": 3,
      "outputs": []
    },
    {
      "cell_type": "code",
      "metadata": {
        "id": "6_RU6VIXKcux",
        "colab_type": "code",
        "colab": {}
      },
      "source": [
        "# Visualizing a grid\n",
        "# from torchvision.utils import make_grid\n",
        "# for images, _ in train_loader:\n",
        "#     print(\"shape: \", images.shape) # Color channel is 1st dim (0th is batch size)\n",
        "#     plt.figure(figsize=(16, 8))\n",
        "#     plt.axis('off')\n",
        "#     # Matplot expects color channels to be the last dimension, hence use permute\n",
        "#     plt.imshow(make_grid(images, nrow=16).permute((1,2,0)))\n",
        "#     break"
      ],
      "execution_count": 4,
      "outputs": []
    },
    {
      "cell_type": "code",
      "metadata": {
        "id": "NmBRjicvLq2w",
        "colab_type": "code",
        "colab": {
          "base_uri": "https://localhost:8080/",
          "height": 85
        },
        "outputId": "311f580e-39f1-4bfc-c7eb-f4eb7faad265"
      },
      "source": [
        "def accuracy(outputs, labels):\n",
        "    _, preds = torch.max(outputs, dim=1)\n",
        "    return torch.tensor(torch.sum(preds==labels).item() / len(preds))\n",
        "\n",
        "import torch.nn.functional as F\n",
        "\n",
        "# Defining model class\n",
        "class MnistModel(nn.Module):\n",
        "\n",
        "    def __init__(self, in_size, hidden_size, out_size):\n",
        "        super().__init__()\n",
        "        # Hidden Layer\n",
        "        self.linear1 = nn.Linear(in_size, hidden_size)\n",
        "        # Output Layer\n",
        "        self.linear2 = nn.Linear(hidden_size, out_size)\n",
        "    \n",
        "    def forward(self, xb):\n",
        "        # Flatten the image tensors\n",
        "        xb = xb.view(xb.size(0), -1)\n",
        "        # Get hidden layer's out\n",
        "        out = self.linear1(xb)\n",
        "        # Apply relu\n",
        "        out = F.relu(out)\n",
        "        # Get preds from output layer\n",
        "        out = self.linear2(out)\n",
        "        return out\n",
        "\n",
        "    def training_step(self, batch):\n",
        "        images, labels = batch\n",
        "        out = self(images) # Predict\n",
        "        loss = F.cross_entropy(out, labels)\n",
        "        return loss\n",
        "\n",
        "    def validation_step(self, batch):\n",
        "        images, labels = batch\n",
        "        out = self(images) # Predict\n",
        "        loss = F.cross_entropy(out, labels)\n",
        "        acc = accuracy(out, labels)\n",
        "        return {'val_loss': loss, 'val_acc': acc}\n",
        "\n",
        "    def validation_epoch_end(self, outputs):\n",
        "        batch_losses = [x['val_loss'] for x in outputs]\n",
        "        epoch_loss = torch.stack(batch_losses).mean() # Combine loss as mean\n",
        "        batch_accs = [x['val_acc'] for x in outputs]\n",
        "        epoch_acc = torch.stack(batch_accs).mean()\n",
        "        return {'val_loss': epoch_loss.item(), 'val_acc': epoch_acc.item()}\n",
        "\n",
        "    def epoch_end(self, epoch, result):\n",
        "        print(\"Epoch [{}], val_loss: {:.4f}, val_acc: {:.4f}\".format(epoch, result['val_loss'], result['val_acc']))\n",
        "\n",
        "# Defining model\n",
        "input_size = 784\n",
        "hidden_size = 32\n",
        "num_classes = 10\n",
        "\n",
        "model = MnistModel(input_size, hidden_size, out_size=num_classes)\n",
        "\n",
        "# Printing\n",
        "for t in model.parameters():\n",
        "    print(t.shape)"
      ],
      "execution_count": 5,
      "outputs": [
        {
          "output_type": "stream",
          "text": [
            "torch.Size([32, 784])\n",
            "torch.Size([32])\n",
            "torch.Size([10, 32])\n",
            "torch.Size([10])\n"
          ],
          "name": "stdout"
        }
      ]
    },
    {
      "cell_type": "code",
      "metadata": {
        "id": "YZSuuYBfRnAU",
        "colab_type": "code",
        "colab": {
          "base_uri": "https://localhost:8080/",
          "height": 119
        },
        "outputId": "3d58a620-d8be-4d19-a6de-56ed0774f61c"
      },
      "source": [
        "# Untrained outputs\n",
        "for images, labels in train_loader:\n",
        "    outputs = model(images)\n",
        "    loss = F.cross_entropy(outputs, labels)\n",
        "    print('loss: ', loss.item())\n",
        "    break\n",
        "\n",
        "print('outputs.shape:', outputs.shape)\n",
        "print('two sample outputs:', outputs[:2])"
      ],
      "execution_count": 6,
      "outputs": [
        {
          "output_type": "stream",
          "text": [
            "loss:  2.313180446624756\n",
            "outputs.shape: torch.Size([128, 10])\n",
            "two sample outputs: tensor([[-0.1235, -0.1264,  0.0418,  0.0795,  0.1548, -0.0597,  0.1647, -0.1499,\n",
            "         -0.1060,  0.2093],\n",
            "        [-0.1778, -0.1345,  0.0760,  0.0516,  0.0916, -0.1247,  0.1154, -0.1075,\n",
            "         -0.1287,  0.1703]], grad_fn=<SliceBackward>)\n"
          ],
          "name": "stdout"
        }
      ]
    },
    {
      "cell_type": "code",
      "metadata": {
        "id": "qRe-UfWRSYwJ",
        "colab_type": "code",
        "colab": {
          "base_uri": "https://localhost:8080/",
          "height": 34
        },
        "outputId": "a570d72f-de41-460f-ac46-03890bd627b7"
      },
      "source": [
        "# For working with GPU, future me refer here\n",
        "torch.cuda.is_available()"
      ],
      "execution_count": 7,
      "outputs": [
        {
          "output_type": "execute_result",
          "data": {
            "text/plain": [
              "True"
            ]
          },
          "metadata": {
            "tags": []
          },
          "execution_count": 7
        }
      ]
    },
    {
      "cell_type": "code",
      "metadata": {
        "id": "0QhuLDYHTo5i",
        "colab_type": "code",
        "colab": {
          "base_uri": "https://localhost:8080/",
          "height": 34
        },
        "outputId": "183241e5-c135-4c9d-fc12-889622aa8508"
      },
      "source": [
        "# If gpu is there, use it, else, well, it was worth the shot #gareebi\n",
        "def get_default_device():\n",
        "    if torch.cuda.is_available(): return torch.device('cuda')\n",
        "    else: return torch.device('cpu')\n",
        "\n",
        "device = get_default_device(); device"
      ],
      "execution_count": 8,
      "outputs": [
        {
          "output_type": "execute_result",
          "data": {
            "text/plain": [
              "device(type='cuda')"
            ]
          },
          "metadata": {
            "tags": []
          },
          "execution_count": 8
        }
      ]
    },
    {
      "cell_type": "code",
      "metadata": {
        "id": "AUs1cYUVUJ5O",
        "colab_type": "code",
        "colab": {
          "base_uri": "https://localhost:8080/",
          "height": 51
        },
        "outputId": "02f6044f-c795-40f6-e72b-5ada577bec46"
      },
      "source": [
        "# I just found out Ctrl+Shift+L is to refactor all token occurences in cell...\n",
        "# define a function to move data and model to a chosen device\n",
        "# arg here called data can be a tensor or a model \n",
        "def to_device(data, device):\n",
        "    if isinstance(data, (list, tuple)): return [to_device(x, device) for x in data] # MUCH WOW! SUCH ELEGANCE!\n",
        "    # if it is not a list or a tuple\n",
        "    return data.to(device, non_blocking=True) # doesnt block from executing next steps\n",
        "\n",
        "for images, labels in train_loader:\n",
        "    print(images.shape)\n",
        "    images = to_device(images, device)\n",
        "    print(images.device)\n",
        "    break"
      ],
      "execution_count": 9,
      "outputs": [
        {
          "output_type": "stream",
          "text": [
            "torch.Size([128, 1, 28, 28])\n",
            "cuda:0\n"
          ],
          "name": "stdout"
        }
      ]
    },
    {
      "cell_type": "code",
      "metadata": {
        "id": "guDJfWzeYqQ9",
        "colab_type": "code",
        "colab": {
          "base_uri": "https://localhost:8080/",
          "height": 221
        },
        "outputId": "ecce4c9c-38b7-461f-a2f8-5d13e2e18284"
      },
      "source": [
        "# Class to wrap existing dataloaders and move data to device as batches are accessed\n",
        "class DeviceDataLoader():\n",
        "    # Wrap dataloader to move data to device\n",
        "    def __init__(self, dataloader, device):\n",
        "        self.dataloader = dataloader\n",
        "        self.device = device\n",
        "    \n",
        "    # Yield a batch of data after moving it to device\n",
        "    def __iter__(self):\n",
        "        for batch in self.dataloader:\n",
        "            yield to_device(batch, self.device)\n",
        "\n",
        "    def __len__(self):\n",
        "        return len(self.dataloader)\n",
        "\n",
        "# Wrapping dataloaders with DeviceDataLoader\n",
        "train_loader = DeviceDataLoader(train_loader, device)\n",
        "val_loader = DeviceDataLoader(val_loader, device)\n",
        "\n",
        "# Now tensors have been moved to gpu\n",
        "# To check this\n",
        "# the tensor will now have a .device property cuda\n",
        "for xb, yb in val_loader:\n",
        "    print('xb.device: ', xb.device)\n",
        "    print('yb: ', yb)\n",
        "    break"
      ],
      "execution_count": 10,
      "outputs": [
        {
          "output_type": "stream",
          "text": [
            "xb.device:  cuda:0\n",
            "yb:  tensor([4, 6, 9, 4, 9, 7, 9, 3, 1, 1, 9, 8, 8, 0, 9, 9, 6, 4, 9, 8, 6, 1, 3, 7,\n",
            "        7, 1, 1, 9, 3, 1, 9, 4, 1, 0, 1, 0, 6, 3, 0, 3, 1, 4, 9, 1, 6, 1, 1, 3,\n",
            "        0, 3, 3, 3, 6, 7, 1, 8, 1, 7, 0, 0, 0, 8, 1, 4, 1, 5, 1, 1, 4, 5, 7, 4,\n",
            "        7, 8, 8, 5, 6, 7, 4, 5, 5, 7, 4, 6, 6, 7, 4, 0, 4, 6, 3, 6, 4, 3, 7, 5,\n",
            "        3, 6, 5, 9, 7, 2, 1, 8, 6, 0, 4, 7, 5, 6, 2, 1, 2, 3, 5, 6, 4, 4, 3, 6,\n",
            "        6, 5, 9, 5, 8, 7, 5, 3, 5, 3, 1, 0, 5, 4, 7, 2, 3, 8, 4, 9, 0, 3, 6, 9,\n",
            "        2, 2, 0, 6, 7, 2, 2, 8, 0, 6, 7, 7, 9, 1, 8, 7, 7, 4, 0, 6, 9, 3, 5, 1,\n",
            "        3, 5, 6, 8, 1, 1, 6, 6, 4, 4, 6, 6, 4, 0, 3, 1, 9, 0, 9, 6, 8, 0, 9, 4,\n",
            "        8, 8, 5, 9, 4, 1, 5, 8, 5, 8, 8, 6, 3, 3, 7, 6, 0, 9, 2, 3, 7, 6, 7, 1,\n",
            "        9, 3, 3, 8, 0, 6, 9, 1, 1, 4, 9, 6, 0, 1, 4, 1, 7, 5, 0, 6, 5, 7, 2, 5,\n",
            "        4, 9, 3, 0, 1, 3, 5, 1, 9, 8, 1, 0, 6, 7, 6, 8], device='cuda:0')\n"
          ],
          "name": "stdout"
        }
      ]
    },
    {
      "cell_type": "code",
      "metadata": {
        "id": "Pe-RIdTdatJ9",
        "colab_type": "code",
        "colab": {
          "base_uri": "https://localhost:8080/",
          "height": 85
        },
        "outputId": "6f806ff7-b12d-49ed-823e-9dffb3afca1d"
      },
      "source": [
        "# Model Training\n",
        "\n",
        "def evaluate(model, val_loader):\n",
        "    outputs = [model.validation_step(batch) for batch in val_loader]\n",
        "    return model.validation_epoch_end(outputs)\n",
        "\n",
        "def fit(epochs, lr, model, train_loader, val_loader, opt_func=torch.optim.SGD):\n",
        "    history = []\n",
        "    optimizer = opt_func(model.parameters(), lr)\n",
        "    for epoch in range(epochs):\n",
        "        # Training phase\n",
        "        for batch in train_loader:\n",
        "            loss = model.training_step(batch)\n",
        "            loss.backward()\n",
        "            optimizer.step()\n",
        "            optimizer.zero_grad()\n",
        "        # Val phase\n",
        "        result = evaluate(model, val_loader)\n",
        "        model.epoch_end(epoch, result)\n",
        "        history.append(result)\n",
        "    return history\n",
        "\n",
        "# Before training, ensure that data and model's params are on same device (CPU or GPU)\n",
        "# Use to_device()\n",
        "model = MnistModel(input_size, hidden_size, out_size=num_classes)\n",
        "to_device(model, device)"
      ],
      "execution_count": 11,
      "outputs": [
        {
          "output_type": "execute_result",
          "data": {
            "text/plain": [
              "MnistModel(\n",
              "  (linear1): Linear(in_features=784, out_features=32, bias=True)\n",
              "  (linear2): Linear(in_features=32, out_features=10, bias=True)\n",
              ")"
            ]
          },
          "metadata": {
            "tags": []
          },
          "execution_count": 11
        }
      ]
    },
    {
      "cell_type": "code",
      "metadata": {
        "id": "uO88OKU7d5uG",
        "colab_type": "code",
        "colab": {
          "base_uri": "https://localhost:8080/",
          "height": 34
        },
        "outputId": "362ee6d1-cfcd-405a-b16f-c7b3b5b57ba5"
      },
      "source": [
        "# Model performance without training\n",
        "history = [evaluate(model, val_loader)]\n",
        "history # expecting 10% acc as there is one in 10 chance of labelled right without training"
      ],
      "execution_count": 12,
      "outputs": [
        {
          "output_type": "execute_result",
          "data": {
            "text/plain": [
              "[{'val_acc': 0.06259765475988388, 'val_loss': 2.3229775428771973}]"
            ]
          },
          "metadata": {
            "tags": []
          },
          "execution_count": 12
        }
      ]
    },
    {
      "cell_type": "code",
      "metadata": {
        "id": "jB4LKf21fLTi",
        "colab_type": "code",
        "colab": {
          "base_uri": "https://localhost:8080/",
          "height": 102
        },
        "outputId": "453b53b3-3fa0-429f-a51b-afb6184fad5b"
      },
      "source": [
        "# Training fr 5 epochs at high lr\n",
        "history += fit(5, 0.5, model, train_loader, val_loader)"
      ],
      "execution_count": 13,
      "outputs": [
        {
          "output_type": "stream",
          "text": [
            "Epoch [0], val_loss: 0.2179, val_acc: 0.9381\n",
            "Epoch [1], val_loss: 0.1975, val_acc: 0.9401\n",
            "Epoch [2], val_loss: 0.1471, val_acc: 0.9560\n",
            "Epoch [3], val_loss: 0.1306, val_acc: 0.9619\n",
            "Epoch [4], val_loss: 0.1471, val_acc: 0.9576\n"
          ],
          "name": "stdout"
        }
      ]
    },
    {
      "cell_type": "code",
      "metadata": {
        "id": "0tHr0kIgfjq-",
        "colab_type": "code",
        "colab": {
          "base_uri": "https://localhost:8080/",
          "height": 102
        },
        "outputId": "c57f6b4c-b77e-405e-f31e-236816040205"
      },
      "source": [
        "# 5 more epochs at lower lr\n",
        "history += fit(5, 0.1, model, train_loader, val_loader)"
      ],
      "execution_count": 14,
      "outputs": [
        {
          "output_type": "stream",
          "text": [
            "Epoch [0], val_loss: 0.1146, val_acc: 0.9657\n",
            "Epoch [1], val_loss: 0.1104, val_acc: 0.9670\n",
            "Epoch [2], val_loss: 0.1127, val_acc: 0.9657\n",
            "Epoch [3], val_loss: 0.1110, val_acc: 0.9661\n",
            "Epoch [4], val_loss: 0.1102, val_acc: 0.9671\n"
          ],
          "name": "stdout"
        }
      ]
    },
    {
      "cell_type": "code",
      "metadata": {
        "id": "F6qefAU2fyv3",
        "colab_type": "code",
        "colab": {
          "base_uri": "https://localhost:8080/",
          "height": 312
        },
        "outputId": "346bfd71-b72b-4c61-b4f2-5476f2f7ed09"
      },
      "source": [
        "# Plotting loss and accuracy\n",
        "losses = [x['val_loss'] for x in history]\n",
        "plt.plot(losses, '-o')\n",
        "plt.xlabel('epoch')\n",
        "plt.ylabel('loss')\n",
        "plt.title('loss history')"
      ],
      "execution_count": 15,
      "outputs": [
        {
          "output_type": "execute_result",
          "data": {
            "text/plain": [
              "Text(0.5, 1.0, 'loss history')"
            ]
          },
          "metadata": {
            "tags": []
          },
          "execution_count": 15
        },
        {
          "output_type": "display_data",
          "data": {
            "image/png": "[encoded data removed]",
            "text/plain": [
              "<Figure size 432x288 with 1 Axes>"
            ]
          },
          "metadata": {
            "tags": [],
            "needs_background": "light"
          }
        }
      ]
    },
    {
      "cell_type": "code",
      "metadata": {
        "id": "MqYbyE8FgQAw",
        "colab_type": "code",
        "colab": {
          "base_uri": "https://localhost:8080/",
          "height": 312
        },
        "outputId": "b9d0b292-4cdb-4849-f4b2-380e4071ec0e"
      },
      "source": [
        "accuracies = [x['val_acc'] for x in history]\n",
        "plt.plot(accuracies, '-o')\n",
        "plt.xlabel('epoch')\n",
        "plt.ylabel('acc')\n",
        "plt.title('acc history')"
      ],
      "execution_count": 16,
      "outputs": [
        {
          "output_type": "execute_result",
          "data": {
            "text/plain": [
              "Text(0.5, 1.0, 'acc history')"
            ]
          },
          "metadata": {
            "tags": []
          },
          "execution_count": 16
        },
        {
          "output_type": "display_data",
          "data": {
            "image/png": "[encoded data removed]",
            "text/plain": [
              "<Figure size 432x288 with 1 Axes>"
            ]
          },
          "metadata": {
            "tags": [],
            "needs_background": "light"
          }
        }
      ]
    },
    {
      "cell_type": "code",
      "metadata": {
        "id": "u7P5LKrFgHQW",
        "colab_type": "code",
        "colab": {}
      },
      "source": [
        ""
      ],
      "execution_count": 16,
      "outputs": []
    }
  ]
}