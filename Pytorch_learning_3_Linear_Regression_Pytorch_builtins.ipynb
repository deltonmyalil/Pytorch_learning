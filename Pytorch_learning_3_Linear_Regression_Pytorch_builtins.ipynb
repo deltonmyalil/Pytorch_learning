{
  "nbformat": 4,
  "nbformat_minor": 0,
  "metadata": {
    "colab": {
      "name": "Pytorch_learning_3_Linear_Regression_Pytorch_builtins.ipynb",
      "provenance": [],
      "authorship_tag": "ABX9TyP+D9OpoQEYoSTSoZJFU49U"
    },
    "kernelspec": {
      "name": "python3",
      "display_name": "Python 3"
    }
  },
  "cells": [
    {
      "cell_type": "markdown",
      "metadata": {
        "id": "oHeD24zjpEvU",
        "colab_type": "text"
      },
      "source": [
        "# I don't have time to Manually do it\n",
        "## So here comes built-ins"
      ]
    },
    {
      "cell_type": "code",
      "metadata": {
        "id": "snKVfIQEntCB",
        "colab_type": "code",
        "colab": {}
      },
      "source": [
        "import numpy as np\n",
        "import torch\n",
        "import torch.nn as nn\n",
        "\n",
        "# Training Data\n",
        "# Input (temp, rainfall, humidity)\n",
        "inputs = np.array([[73, 67, 43], [91, 88, 64], [87, 134, 58], \n",
        "                   [102, 43, 37], [69, 96, 70], [73, 67, 43], \n",
        "                   [91, 88, 64], [87, 134, 58], [102, 43, 37], \n",
        "                   [69, 96, 70], [73, 67, 43], [91, 88, 64], \n",
        "                   [87, 134, 58], [102, 43, 37], [69, 96, 70]], \n",
        "                  dtype='float32')\n",
        "\n",
        "# Targets (apples, oranges)\n",
        "targets = np.array([[56, 70], [81, 101], [119, 133], \n",
        "                    [22, 37], [103, 119], [56, 70], \n",
        "                    [81, 101], [119, 133], [22, 37], \n",
        "                    [103, 119], [56, 70], [81, 101], \n",
        "                    [119, 133], [22, 37], [103, 119]], \n",
        "                   dtype='float32')\n",
        "\n",
        "# Converting numpy arrays to pytorch tensors\n",
        "inputs = torch.from_numpy(inputs)\n",
        "targets = torch.from_numpy(targets)"
      ],
      "execution_count": 0,
      "outputs": []
    },
    {
      "cell_type": "markdown",
      "metadata": {
        "id": "YtGgxnyUobkq",
        "colab_type": "text"
      },
      "source": [
        "## Datasets and DataLoader"
      ]
    },
    {
      "cell_type": "markdown",
      "metadata": {
        "id": "ouuW9sSbpCiv",
        "colab_type": "text"
      },
      "source": [
        "### TensorDataset\n",
        "We will create a TensorDataset. It can access rows of inputs and targets as tuples; provides standard API "
      ]
    },
    {
      "cell_type": "code",
      "metadata": {
        "id": "XklViizDrYjy",
        "colab_type": "code",
        "colab": {
          "base_uri": "https://localhost:8080/",
          "height": 107
        },
        "outputId": "b726d3b9-9770-4e50-9fdc-aba0cbc9788d"
      },
      "source": [
        "from torch.utils.data import TensorDataset\n",
        "\n",
        "# define dataset\n",
        "train_ds = TensorDataset(inputs, targets)\n",
        "train_ds[0:3] # I want a slice"
      ],
      "execution_count": 3,
      "outputs": [
        {
          "output_type": "execute_result",
          "data": {
            "text/plain": [
              "(tensor([[ 73.,  67.,  43.],\n",
              "         [ 91.,  88.,  64.],\n",
              "         [ 87., 134.,  58.]]), tensor([[ 56.,  70.],\n",
              "         [ 81., 101.],\n",
              "         [119., 133.]]))"
            ]
          },
          "metadata": {
            "tags": []
          },
          "execution_count": 3
        }
      ]
    },
    {
      "cell_type": "markdown",
      "metadata": {
        "id": "DtuLllFhrqoI",
        "colab_type": "text"
      },
      "source": [
        "Returns a tuple of size 2. First element is the first 3 inputs, second element is the first 3 targets"
      ]
    },
    {
      "cell_type": "markdown",
      "metadata": {
        "id": "j3Urkc2Nr_ew",
        "colab_type": "text"
      },
      "source": [
        "### Dataloader\n",
        "Can spllit data into batches. Also shuffles, random samplings etc"
      ]
    },
    {
      "cell_type": "code",
      "metadata": {
        "id": "AdsD9hEKsNpl",
        "colab_type": "code",
        "colab": {
          "base_uri": "https://localhost:8080/",
          "height": 197
        },
        "outputId": "5fa90769-15d6-4aa0-8e67-7afa138edd34"
      },
      "source": [
        "from torch.utils.data import DataLoader\n",
        "\n",
        "# define DataLoader\n",
        "batch_size = 5\n",
        "train_dl = DataLoader(train_ds, batch_size, shuffle=True)\n",
        "\n",
        "# Dataloader is typically used in a for loop\n",
        "for x_batch, y_batch in train_dl: # takes 5 samples as a batch\n",
        "    print(x_batch)\n",
        "    print(y_batch)\n",
        "    break"
      ],
      "execution_count": 4,
      "outputs": [
        {
          "output_type": "stream",
          "text": [
            "tensor([[ 69.,  96.,  70.],\n",
            "        [ 91.,  88.,  64.],\n",
            "        [ 87., 134.,  58.],\n",
            "        [ 69.,  96.,  70.],\n",
            "        [ 73.,  67.,  43.]])\n",
            "tensor([[103., 119.],\n",
            "        [ 81., 101.],\n",
            "        [119., 133.],\n",
            "        [103., 119.],\n",
            "        [ 56.,  70.]])\n"
          ],
          "name": "stdout"
        }
      ]
    },
    {
      "cell_type": "markdown",
      "metadata": {
        "id": "Mx-U4KwAtTkk",
        "colab_type": "text"
      },
      "source": [
        "## nn.Linear"
      ]
    },
    {
      "cell_type": "markdown",
      "metadata": {
        "id": "O575ZGDWtWWQ",
        "colab_type": "text"
      },
      "source": [
        "Instead of initializing the weights & biases manually, we can define the model using the nn.Linear class from PyTorch, which does it automatically."
      ]
    },
    {
      "cell_type": "code",
      "metadata": {
        "id": "_AV75CSutcqX",
        "colab_type": "code",
        "colab": {
          "base_uri": "https://localhost:8080/",
          "height": 107
        },
        "outputId": "a0730ded-8d42-4b0f-8f2f-f7322c098643"
      },
      "source": [
        "# define model\n",
        "# Applies a linear transformation to the incoming data: :math:y = xA^T + b\n",
        "model = nn.Linear(in_features=3, out_features=2, bias=True)\n",
        "print(model.weight)\n",
        "print(model.bias)"
      ],
      "execution_count": 5,
      "outputs": [
        {
          "output_type": "stream",
          "text": [
            "Parameter containing:\n",
            "tensor([[ 0.3928,  0.1208, -0.0894],\n",
            "        [-0.5004,  0.5238, -0.5435]], requires_grad=True)\n",
            "Parameter containing:\n",
            "tensor([-0.0960,  0.5425], requires_grad=True)\n"
          ],
          "name": "stdout"
        }
      ]
    },
    {
      "cell_type": "code",
      "metadata": {
        "id": "X834sjyJt4Mf",
        "colab_type": "code",
        "colab": {
          "base_uri": "https://localhost:8080/",
          "height": 107
        },
        "outputId": "63492439-bd86-4a25-a003-d8283e1c0373"
      },
      "source": [
        "list(model.parameters())"
      ],
      "execution_count": 6,
      "outputs": [
        {
          "output_type": "execute_result",
          "data": {
            "text/plain": [
              "[Parameter containing:\n",
              " tensor([[ 0.3928,  0.1208, -0.0894],\n",
              "         [-0.5004,  0.5238, -0.5435]], requires_grad=True),\n",
              " Parameter containing:\n",
              " tensor([-0.0960,  0.5425], requires_grad=True)]"
            ]
          },
          "metadata": {
            "tags": []
          },
          "execution_count": 6
        }
      ]
    },
    {
      "cell_type": "code",
      "metadata": {
        "id": "ehpWBdTFuC44",
        "colab_type": "code",
        "colab": {
          "base_uri": "https://localhost:8080/",
          "height": 287
        },
        "outputId": "7599df47-15d0-473b-fbe7-f827c9659909"
      },
      "source": [
        "# Prediction is same as before\n",
        "preds = model(inputs); preds"
      ],
      "execution_count": 7,
      "outputs": [
        {
          "output_type": "execute_result",
          "data": {
            "text/plain": [
              "tensor([[ 32.8236, -24.2682],\n",
              "        [ 40.5518, -33.6910],\n",
              "        [ 45.0728,  -4.3348],\n",
              "        [ 41.8526, -48.0898],\n",
              "        [ 32.3400, -21.7528],\n",
              "        [ 32.8236, -24.2682],\n",
              "        [ 40.5518, -33.6910],\n",
              "        [ 45.0728,  -4.3348],\n",
              "        [ 41.8526, -48.0898],\n",
              "        [ 32.3400, -21.7528],\n",
              "        [ 32.8236, -24.2682],\n",
              "        [ 40.5518, -33.6910],\n",
              "        [ 45.0728,  -4.3348],\n",
              "        [ 41.8526, -48.0898],\n",
              "        [ 32.3400, -21.7528]], grad_fn=<AddmmBackward>)"
            ]
          },
          "metadata": {
            "tags": []
          },
          "execution_count": 7
        }
      ]
    },
    {
      "cell_type": "markdown",
      "metadata": {
        "id": "NFn06TaquQQf",
        "colab_type": "text"
      },
      "source": [
        "## Loss function built in"
      ]
    },
    {
      "cell_type": "code",
      "metadata": {
        "id": "3q0TsH0guVLc",
        "colab_type": "code",
        "colab": {}
      },
      "source": [
        "import torch.nn.functional as F\n",
        "loss_fn = F.mse_loss"
      ],
      "execution_count": 0,
      "outputs": []
    },
    {
      "cell_type": "code",
      "metadata": {
        "id": "yKO2vFf7uZws",
        "colab_type": "code",
        "colab": {
          "base_uri": "https://localhost:8080/",
          "height": 53
        },
        "outputId": "91487262-c52f-4b4f-c716-cd608e2218f1"
      },
      "source": [
        "# Compute loss\n",
        "loss = loss_fn(model(inputs), targets)\n",
        "initial_loss = loss\n",
        "print(initial_loss)\n",
        "print(loss.item())      "
      ],
      "execution_count": 12,
      "outputs": [
        {
          "output_type": "stream",
          "text": [
            "tensor(8596.6006, grad_fn=<MseLossBackward>)\n",
            "8596.6005859375\n"
          ],
          "name": "stdout"
        }
      ]
    },
    {
      "cell_type": "markdown",
      "metadata": {
        "id": "nZyBl7pBuwEP",
        "colab_type": "text"
      },
      "source": [
        "## Optimizer"
      ]
    },
    {
      "cell_type": "code",
      "metadata": {
        "id": "BqBk4u27uyaV",
        "colab_type": "code",
        "colab": {}
      },
      "source": [
        "# Define optimizer\n",
        "opt = torch.optim.SGD(model.parameters(), lr = 1e-5)"
      ],
      "execution_count": 0,
      "outputs": []
    },
    {
      "cell_type": "markdown",
      "metadata": {
        "id": "HY9ESUjbvPPI",
        "colab_type": "text"
      },
      "source": [
        "## Model Training\n"
      ]
    },
    {
      "cell_type": "markdown",
      "metadata": {
        "id": "1ttL-0gWwuVG",
        "colab_type": "text"
      },
      "source": [
        "Using data loader for extracting data batches\n",
        "\n",
        "opt.step is to update the parameters\n",
        "\n",
        "opt.zero_grad is to reset gradients\n",
        "\n",
        "loss.item returns actual value stored in loss tensor"
      ]
    },
    {
      "cell_type": "code",
      "metadata": {
        "id": "mYPcKSrBvXBT",
        "colab_type": "code",
        "colab": {}
      },
      "source": [
        "def fit(train_dl, model, loss_fn, opt, num_epochs):\n",
        "    for epoch in range(num_epochs):\n",
        "        # get batches in for loop\n",
        "        for x_batch, y_batch in train_dl:\n",
        "            # predict\n",
        "            pred = model(x_batch)\n",
        "            # loss\n",
        "            loss = loss_fn(pred, y_batch)\n",
        "            # Compute Gradients\n",
        "            loss.backward()\n",
        "            # Update parameters using gradients, without calculating gradients further (no_grad())\n",
        "            opt.step()\n",
        "            # Reset gradients to zero\n",
        "            opt.zero_grad()\n",
        "        \n",
        "        # verbose\n",
        "        if (epoch+1) % 10 == 0:\n",
        "            print('Epoch {}/{}, loss = {:.4f}'.format(epoch+1, num_epochs, loss.item()))"
      ],
      "execution_count": 0,
      "outputs": []
    },
    {
      "cell_type": "code",
      "metadata": {
        "id": "_D0OzaZwxFtO",
        "colab_type": "code",
        "colab": {
          "base_uri": "https://localhost:8080/",
          "height": 197
        },
        "outputId": "d2ee218f-c1c8-4ad9-bd52-19696fa729f4"
      },
      "source": [
        "fit(train_dl=train_dl, model=model, loss_fn=loss_fn, opt=opt, num_epochs=100)"
      ],
      "execution_count": 14,
      "outputs": [
        {
          "output_type": "stream",
          "text": [
            "Epoch 10/100, loss = 313.1768\n",
            "Epoch 20/100, loss = 128.8890\n",
            "Epoch 30/100, loss = 408.1381\n",
            "Epoch 40/100, loss = 131.3058\n",
            "Epoch 50/100, loss = 132.9145\n",
            "Epoch 60/100, loss = 135.2191\n",
            "Epoch 70/100, loss = 69.6358\n",
            "Epoch 80/100, loss = 30.4960\n",
            "Epoch 90/100, loss = 77.5364\n",
            "Epoch 100/100, loss = 72.6379\n"
          ],
          "name": "stdout"
        }
      ]
    },
    {
      "cell_type": "markdown",
      "metadata": {
        "id": "ZGQrDI9kxSL7",
        "colab_type": "text"
      },
      "source": [
        "## Generating Predictions"
      ]
    },
    {
      "cell_type": "code",
      "metadata": {
        "id": "a8frLhq3xZzI",
        "colab_type": "code",
        "colab": {
          "base_uri": "https://localhost:8080/",
          "height": 287
        },
        "outputId": "c0c4cd71-e5dd-481a-bf39-29dd3337a022"
      },
      "source": [
        "preds = model(inputs); preds"
      ],
      "execution_count": 15,
      "outputs": [
        {
          "output_type": "execute_result",
          "data": {
            "text/plain": [
              "tensor([[ 58.7713,  71.1892],\n",
              "        [ 79.9734,  94.5649],\n",
              "        [120.8813, 144.8109],\n",
              "        [ 30.4236,  41.4137],\n",
              "        [ 92.5861, 106.1031],\n",
              "        [ 58.7713,  71.1892],\n",
              "        [ 79.9734,  94.5649],\n",
              "        [120.8813, 144.8109],\n",
              "        [ 30.4236,  41.4137],\n",
              "        [ 92.5861, 106.1031],\n",
              "        [ 58.7713,  71.1892],\n",
              "        [ 79.9734,  94.5649],\n",
              "        [120.8813, 144.8109],\n",
              "        [ 30.4236,  41.4137],\n",
              "        [ 92.5861, 106.1031]], grad_fn=<AddmmBackward>)"
            ]
          },
          "metadata": {
            "tags": []
          },
          "execution_count": 15
        }
      ]
    }
  ]
}