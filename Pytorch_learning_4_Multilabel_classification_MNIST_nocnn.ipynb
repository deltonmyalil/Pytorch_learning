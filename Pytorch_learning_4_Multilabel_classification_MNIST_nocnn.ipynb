{
  "nbformat": 4,
  "nbformat_minor": 0,
  "metadata": {
    "colab": {
      "name": "Pytorch_4_Multilabel_classification_MNIST_nocnn.ipynb",
      "provenance": [],
      "collapsed_sections": [],
      "authorship_tag": "ABX9TyPfe2W5JyDIMCtKIwhML5QL"
    },
    "kernelspec": {
      "name": "python3",
      "display_name": "Python 3"
    },
    "widgets": {
      "application/vnd.jupyter.widget-state+json": {
        "e378c5cd78f244d3bea9abcf82c64ce2": {
          "model_module": "@jupyter-widgets/controls",
          "model_name": "HBoxModel",
          "state": {
            "_view_name": "HBoxView",
            "_dom_classes": [],
            "_model_name": "HBoxModel",
            "_view_module": "@jupyter-widgets/controls",
            "_model_module_version": "1.5.0",
            "_view_count": null,
            "_view_module_version": "1.5.0",
            "box_style": "",
            "layout": "IPY_MODEL_4d4aa931f1f84ed3a092b9315a60c9b4",
            "_model_module": "@jupyter-widgets/controls",
            "children": [
              "IPY_MODEL_6cd264b3677340158aa0874841458569",
              "IPY_MODEL_a8311ff5134c4087b06fd5dc1f2aa491"
            ]
          }
        },
        "4d4aa931f1f84ed3a092b9315a60c9b4": {
          "model_module": "@jupyter-widgets/base",
          "model_name": "LayoutModel",
          "state": {
            "_view_name": "LayoutView",
            "grid_template_rows": null,
            "right": null,
            "justify_content": null,
            "_view_module": "@jupyter-widgets/base",
            "overflow": null,
            "_model_module_version": "1.2.0",
            "_view_count": null,
            "flex_flow": null,
            "width": null,
            "min_width": null,
            "border": null,
            "align_items": null,
            "bottom": null,
            "_model_module": "@jupyter-widgets/base",
            "top": null,
            "grid_column": null,
            "overflow_y": null,
            "overflow_x": null,
            "grid_auto_flow": null,
            "grid_area": null,
            "grid_template_columns": null,
            "flex": null,
            "_model_name": "LayoutModel",
            "justify_items": null,
            "grid_row": null,
            "max_height": null,
            "align_content": null,
            "visibility": null,
            "align_self": null,
            "height": null,
            "min_height": null,
            "padding": null,
            "grid_auto_rows": null,
            "grid_gap": null,
            "max_width": null,
            "order": null,
            "_view_module_version": "1.2.0",
            "grid_template_areas": null,
            "object_position": null,
            "object_fit": null,
            "grid_auto_columns": null,
            "margin": null,
            "display": null,
            "left": null
          }
        },
        "6cd264b3677340158aa0874841458569": {
          "model_module": "@jupyter-widgets/controls",
          "model_name": "FloatProgressModel",
          "state": {
            "_view_name": "ProgressView",
            "style": "IPY_MODEL_1f9fb335b8ab4da28ea0db6aa982cdd2",
            "_dom_classes": [],
            "description": "",
            "_model_name": "FloatProgressModel",
            "bar_style": "success",
            "max": 1,
            "_view_module": "@jupyter-widgets/controls",
            "_model_module_version": "1.5.0",
            "value": 1,
            "_view_count": null,
            "_view_module_version": "1.5.0",
            "orientation": "horizontal",
            "min": 0,
            "description_tooltip": null,
            "_model_module": "@jupyter-widgets/controls",
            "layout": "IPY_MODEL_1ea869a2a4354a68ab3abee34119338a"
          }
        },
        "a8311ff5134c4087b06fd5dc1f2aa491": {
          "model_module": "@jupyter-widgets/controls",
          "model_name": "HTMLModel",
          "state": {
            "_view_name": "HTMLView",
            "style": "IPY_MODEL_59de66ee00df4125958705e7cc6d21fa",
            "_dom_classes": [],
            "description": "",
            "_model_name": "HTMLModel",
            "placeholder": "​",
            "_view_module": "@jupyter-widgets/controls",
            "_model_module_version": "1.5.0",
            "value": " 9920512/? [00:03&lt;00:00, 3193259.48it/s]",
            "_view_count": null,
            "_view_module_version": "1.5.0",
            "description_tooltip": null,
            "_model_module": "@jupyter-widgets/controls",
            "layout": "IPY_MODEL_21a49bf4b88e4bc4a0b0003954d08b2e"
          }
        },
        "1f9fb335b8ab4da28ea0db6aa982cdd2": {
          "model_module": "@jupyter-widgets/controls",
          "model_name": "ProgressStyleModel",
          "state": {
            "_view_name": "StyleView",
            "_model_name": "ProgressStyleModel",
            "description_width": "initial",
            "_view_module": "@jupyter-widgets/base",
            "_model_module_version": "1.5.0",
            "_view_count": null,
            "_view_module_version": "1.2.0",
            "bar_color": null,
            "_model_module": "@jupyter-widgets/controls"
          }
        },
        "1ea869a2a4354a68ab3abee34119338a": {
          "model_module": "@jupyter-widgets/base",
          "model_name": "LayoutModel",
          "state": {
            "_view_name": "LayoutView",
            "grid_template_rows": null,
            "right": null,
            "justify_content": null,
            "_view_module": "@jupyter-widgets/base",
            "overflow": null,
            "_model_module_version": "1.2.0",
            "_view_count": null,
            "flex_flow": null,
            "width": null,
            "min_width": null,
            "border": null,
            "align_items": null,
            "bottom": null,
            "_model_module": "@jupyter-widgets/base",
            "top": null,
            "grid_column": null,
            "overflow_y": null,
            "overflow_x": null,
            "grid_auto_flow": null,
            "grid_area": null,
            "grid_template_columns": null,
            "flex": null,
            "_model_name": "LayoutModel",
            "justify_items": null,
            "grid_row": null,
            "max_height": null,
            "align_content": null,
            "visibility": null,
            "align_self": null,
            "height": null,
            "min_height": null,
            "padding": null,
            "grid_auto_rows": null,
            "grid_gap": null,
            "max_width": null,
            "order": null,
            "_view_module_version": "1.2.0",
            "grid_template_areas": null,
            "object_position": null,
            "object_fit": null,
            "grid_auto_columns": null,
            "margin": null,
            "display": null,
            "left": null
          }
        },
        "59de66ee00df4125958705e7cc6d21fa": {
          "model_module": "@jupyter-widgets/controls",
          "model_name": "DescriptionStyleModel",
          "state": {
            "_view_name": "StyleView",
            "_model_name": "DescriptionStyleModel",
            "description_width": "",
            "_view_module": "@jupyter-widgets/base",
            "_model_module_version": "1.5.0",
            "_view_count": null,
            "_view_module_version": "1.2.0",
            "_model_module": "@jupyter-widgets/controls"
          }
        },
        "21a49bf4b88e4bc4a0b0003954d08b2e": {
          "model_module": "@jupyter-widgets/base",
          "model_name": "LayoutModel",
          "state": {
            "_view_name": "LayoutView",
            "grid_template_rows": null,
            "right": null,
            "justify_content": null,
            "_view_module": "@jupyter-widgets/base",
            "overflow": null,
            "_model_module_version": "1.2.0",
            "_view_count": null,
            "flex_flow": null,
            "width": null,
            "min_width": null,
            "border": null,
            "align_items": null,
            "bottom": null,
            "_model_module": "@jupyter-widgets/base",
            "top": null,
            "grid_column": null,
            "overflow_y": null,
            "overflow_x": null,
            "grid_auto_flow": null,
            "grid_area": null,
            "grid_template_columns": null,
            "flex": null,
            "_model_name": "LayoutModel",
            "justify_items": null,
            "grid_row": null,
            "max_height": null,
            "align_content": null,
            "visibility": null,
            "align_self": null,
            "height": null,
            "min_height": null,
            "padding": null,
            "grid_auto_rows": null,
            "grid_gap": null,
            "max_width": null,
            "order": null,
            "_view_module_version": "1.2.0",
            "grid_template_areas": null,
            "object_position": null,
            "object_fit": null,
            "grid_auto_columns": null,
            "margin": null,
            "display": null,
            "left": null
          }
        },
        "427c861e80eb464eb08aafec844450f0": {
          "model_module": "@jupyter-widgets/controls",
          "model_name": "HBoxModel",
          "state": {
            "_view_name": "HBoxView",
            "_dom_classes": [],
            "_model_name": "HBoxModel",
            "_view_module": "@jupyter-widgets/controls",
            "_model_module_version": "1.5.0",
            "_view_count": null,
            "_view_module_version": "1.5.0",
            "box_style": "",
            "layout": "IPY_MODEL_f58ebcd6f5064faab7279e86cc10f68e",
            "_model_module": "@jupyter-widgets/controls",
            "children": [
              "IPY_MODEL_afe19fcf99304e8cb4ceb6686b3e4b6a",
              "IPY_MODEL_399ed2f91b644369ac0ab0208f46a2b7"
            ]
          }
        },
        "f58ebcd6f5064faab7279e86cc10f68e": {
          "model_module": "@jupyter-widgets/base",
          "model_name": "LayoutModel",
          "state": {
            "_view_name": "LayoutView",
            "grid_template_rows": null,
            "right": null,
            "justify_content": null,
            "_view_module": "@jupyter-widgets/base",
            "overflow": null,
            "_model_module_version": "1.2.0",
            "_view_count": null,
            "flex_flow": null,
            "width": null,
            "min_width": null,
            "border": null,
            "align_items": null,
            "bottom": null,
            "_model_module": "@jupyter-widgets/base",
            "top": null,
            "grid_column": null,
            "overflow_y": null,
            "overflow_x": null,
            "grid_auto_flow": null,
            "grid_area": null,
            "grid_template_columns": null,
            "flex": null,
            "_model_name": "LayoutModel",
            "justify_items": null,
            "grid_row": null,
            "max_height": null,
            "align_content": null,
            "visibility": null,
            "align_self": null,
            "height": null,
            "min_height": null,
            "padding": null,
            "grid_auto_rows": null,
            "grid_gap": null,
            "max_width": null,
            "order": null,
            "_view_module_version": "1.2.0",
            "grid_template_areas": null,
            "object_position": null,
            "object_fit": null,
            "grid_auto_columns": null,
            "margin": null,
            "display": null,
            "left": null
          }
        },
        "afe19fcf99304e8cb4ceb6686b3e4b6a": {
          "model_module": "@jupyter-widgets/controls",
          "model_name": "FloatProgressModel",
          "state": {
            "_view_name": "ProgressView",
            "style": "IPY_MODEL_8d530668d35247008e1c4b754cc37851",
            "_dom_classes": [],
            "description": "",
            "_model_name": "FloatProgressModel",
            "bar_style": "success",
            "max": 1,
            "_view_module": "@jupyter-widgets/controls",
            "_model_module_version": "1.5.0",
            "value": 1,
            "_view_count": null,
            "_view_module_version": "1.5.0",
            "orientation": "horizontal",
            "min": 0,
            "description_tooltip": null,
            "_model_module": "@jupyter-widgets/controls",
            "layout": "IPY_MODEL_1d6ef1e550f248f7bbc926af8f5555b3"
          }
        },
        "399ed2f91b644369ac0ab0208f46a2b7": {
          "model_module": "@jupyter-widgets/controls",
          "model_name": "HTMLModel",
          "state": {
            "_view_name": "HTMLView",
            "style": "IPY_MODEL_92b74a1d38a84a22a4ee52749fbe9f9e",
            "_dom_classes": [],
            "description": "",
            "_model_name": "HTMLModel",
            "placeholder": "​",
            "_view_module": "@jupyter-widgets/controls",
            "_model_module_version": "1.5.0",
            "value": " 32768/? [00:01&lt;00:00, 24698.09it/s]",
            "_view_count": null,
            "_view_module_version": "1.5.0",
            "description_tooltip": null,
            "_model_module": "@jupyter-widgets/controls",
            "layout": "IPY_MODEL_3375b74f47224f5c8b8618b6c9e42874"
          }
        },
        "8d530668d35247008e1c4b754cc37851": {
          "model_module": "@jupyter-widgets/controls",
          "model_name": "ProgressStyleModel",
          "state": {
            "_view_name": "StyleView",
            "_model_name": "ProgressStyleModel",
            "description_width": "initial",
            "_view_module": "@jupyter-widgets/base",
            "_model_module_version": "1.5.0",
            "_view_count": null,
            "_view_module_version": "1.2.0",
            "bar_color": null,
            "_model_module": "@jupyter-widgets/controls"
          }
        },
        "1d6ef1e550f248f7bbc926af8f5555b3": {
          "model_module": "@jupyter-widgets/base",
          "model_name": "LayoutModel",
          "state": {
            "_view_name": "LayoutView",
            "grid_template_rows": null,
            "right": null,
            "justify_content": null,
            "_view_module": "@jupyter-widgets/base",
            "overflow": null,
            "_model_module_version": "1.2.0",
            "_view_count": null,
            "flex_flow": null,
            "width": null,
            "min_width": null,
            "border": null,
            "align_items": null,
            "bottom": null,
            "_model_module": "@jupyter-widgets/base",
            "top": null,
            "grid_column": null,
            "overflow_y": null,
            "overflow_x": null,
            "grid_auto_flow": null,
            "grid_area": null,
            "grid_template_columns": null,
            "flex": null,
            "_model_name": "LayoutModel",
            "justify_items": null,
            "grid_row": null,
            "max_height": null,
            "align_content": null,
            "visibility": null,
            "align_self": null,
            "height": null,
            "min_height": null,
            "padding": null,
            "grid_auto_rows": null,
            "grid_gap": null,
            "max_width": null,
            "order": null,
            "_view_module_version": "1.2.0",
            "grid_template_areas": null,
            "object_position": null,
            "object_fit": null,
            "grid_auto_columns": null,
            "margin": null,
            "display": null,
            "left": null
          }
        },
        "92b74a1d38a84a22a4ee52749fbe9f9e": {
          "model_module": "@jupyter-widgets/controls",
          "model_name": "DescriptionStyleModel",
          "state": {
            "_view_name": "StyleView",
            "_model_name": "DescriptionStyleModel",
            "description_width": "",
            "_view_module": "@jupyter-widgets/base",
            "_model_module_version": "1.5.0",
            "_view_count": null,
            "_view_module_version": "1.2.0",
            "_model_module": "@jupyter-widgets/controls"
          }
        },
        "3375b74f47224f5c8b8618b6c9e42874": {
          "model_module": "@jupyter-widgets/base",
          "model_name": "LayoutModel",
          "state": {
            "_view_name": "LayoutView",
            "grid_template_rows": null,
            "right": null,
            "justify_content": null,
            "_view_module": "@jupyter-widgets/base",
            "overflow": null,
            "_model_module_version": "1.2.0",
            "_view_count": null,
            "flex_flow": null,
            "width": null,
            "min_width": null,
            "border": null,
            "align_items": null,
            "bottom": null,
            "_model_module": "@jupyter-widgets/base",
            "top": null,
            "grid_column": null,
            "overflow_y": null,
            "overflow_x": null,
            "grid_auto_flow": null,
            "grid_area": null,
            "grid_template_columns": null,
            "flex": null,
            "_model_name": "LayoutModel",
            "justify_items": null,
            "grid_row": null,
            "max_height": null,
            "align_content": null,
            "visibility": null,
            "align_self": null,
            "height": null,
            "min_height": null,
            "padding": null,
            "grid_auto_rows": null,
            "grid_gap": null,
            "max_width": null,
            "order": null,
            "_view_module_version": "1.2.0",
            "grid_template_areas": null,
            "object_position": null,
            "object_fit": null,
            "grid_auto_columns": null,
            "margin": null,
            "display": null,
            "left": null
          }
        },
        "c3d40cd4cf9b450b93ca05d9954db4b5": {
          "model_module": "@jupyter-widgets/controls",
          "model_name": "HBoxModel",
          "state": {
            "_view_name": "HBoxView",
            "_dom_classes": [],
            "_model_name": "HBoxModel",
            "_view_module": "@jupyter-widgets/controls",
            "_model_module_version": "1.5.0",
            "_view_count": null,
            "_view_module_version": "1.5.0",
            "box_style": "",
            "layout": "IPY_MODEL_541da17a270b4016bb090eb232c4b3ad",
            "_model_module": "@jupyter-widgets/controls",
            "children": [
              "IPY_MODEL_47471783e293492687230cfb102fc4a5",
              "IPY_MODEL_f7ab1a33b05c4378a6dfedc62508e1da"
            ]
          }
        },
        "541da17a270b4016bb090eb232c4b3ad": {
          "model_module": "@jupyter-widgets/base",
          "model_name": "LayoutModel",
          "state": {
            "_view_name": "LayoutView",
            "grid_template_rows": null,
            "right": null,
            "justify_content": null,
            "_view_module": "@jupyter-widgets/base",
            "overflow": null,
            "_model_module_version": "1.2.0",
            "_view_count": null,
            "flex_flow": null,
            "width": null,
            "min_width": null,
            "border": null,
            "align_items": null,
            "bottom": null,
            "_model_module": "@jupyter-widgets/base",
            "top": null,
            "grid_column": null,
            "overflow_y": null,
            "overflow_x": null,
            "grid_auto_flow": null,
            "grid_area": null,
            "grid_template_columns": null,
            "flex": null,
            "_model_name": "LayoutModel",
            "justify_items": null,
            "grid_row": null,
            "max_height": null,
            "align_content": null,
            "visibility": null,
            "align_self": null,
            "height": null,
            "min_height": null,
            "padding": null,
            "grid_auto_rows": null,
            "grid_gap": null,
            "max_width": null,
            "order": null,
            "_view_module_version": "1.2.0",
            "grid_template_areas": null,
            "object_position": null,
            "object_fit": null,
            "grid_auto_columns": null,
            "margin": null,
            "display": null,
            "left": null
          }
        },
        "47471783e293492687230cfb102fc4a5": {
          "model_module": "@jupyter-widgets/controls",
          "model_name": "FloatProgressModel",
          "state": {
            "_view_name": "ProgressView",
            "style": "IPY_MODEL_97dd9f0603e04f29992763e4cbecff79",
            "_dom_classes": [],
            "description": "",
            "_model_name": "FloatProgressModel",
            "bar_style": "success",
            "max": 1,
            "_view_module": "@jupyter-widgets/controls",
            "_model_module_version": "1.5.0",
            "value": 1,
            "_view_count": null,
            "_view_module_version": "1.5.0",
            "orientation": "horizontal",
            "min": 0,
            "description_tooltip": null,
            "_model_module": "@jupyter-widgets/controls",
            "layout": "IPY_MODEL_71f50ddd65e74a578e3d4aec7e18db65"
          }
        },
        "f7ab1a33b05c4378a6dfedc62508e1da": {
          "model_module": "@jupyter-widgets/controls",
          "model_name": "HTMLModel",
          "state": {
            "_view_name": "HTMLView",
            "style": "IPY_MODEL_ce1d448d720447098782c8bd2bf3e2f0",
            "_dom_classes": [],
            "description": "",
            "_model_name": "HTMLModel",
            "placeholder": "​",
            "_view_module": "@jupyter-widgets/controls",
            "_model_module_version": "1.5.0",
            "value": " 1654784/? [00:01&lt;00:00, 1612521.24it/s]",
            "_view_count": null,
            "_view_module_version": "1.5.0",
            "description_tooltip": null,
            "_model_module": "@jupyter-widgets/controls",
            "layout": "IPY_MODEL_d2da91e27825431f9763b37599361e0f"
          }
        },
        "97dd9f0603e04f29992763e4cbecff79": {
          "model_module": "@jupyter-widgets/controls",
          "model_name": "ProgressStyleModel",
          "state": {
            "_view_name": "StyleView",
            "_model_name": "ProgressStyleModel",
            "description_width": "initial",
            "_view_module": "@jupyter-widgets/base",
            "_model_module_version": "1.5.0",
            "_view_count": null,
            "_view_module_version": "1.2.0",
            "bar_color": null,
            "_model_module": "@jupyter-widgets/controls"
          }
        },
        "71f50ddd65e74a578e3d4aec7e18db65": {
          "model_module": "@jupyter-widgets/base",
          "model_name": "LayoutModel",
          "state": {
            "_view_name": "LayoutView",
            "grid_template_rows": null,
            "right": null,
            "justify_content": null,
            "_view_module": "@jupyter-widgets/base",
            "overflow": null,
            "_model_module_version": "1.2.0",
            "_view_count": null,
            "flex_flow": null,
            "width": null,
            "min_width": null,
            "border": null,
            "align_items": null,
            "bottom": null,
            "_model_module": "@jupyter-widgets/base",
            "top": null,
            "grid_column": null,
            "overflow_y": null,
            "overflow_x": null,
            "grid_auto_flow": null,
            "grid_area": null,
            "grid_template_columns": null,
            "flex": null,
            "_model_name": "LayoutModel",
            "justify_items": null,
            "grid_row": null,
            "max_height": null,
            "align_content": null,
            "visibility": null,
            "align_self": null,
            "height": null,
            "min_height": null,
            "padding": null,
            "grid_auto_rows": null,
            "grid_gap": null,
            "max_width": null,
            "order": null,
            "_view_module_version": "1.2.0",
            "grid_template_areas": null,
            "object_position": null,
            "object_fit": null,
            "grid_auto_columns": null,
            "margin": null,
            "display": null,
            "left": null
          }
        },
        "ce1d448d720447098782c8bd2bf3e2f0": {
          "model_module": "@jupyter-widgets/controls",
          "model_name": "DescriptionStyleModel",
          "state": {
            "_view_name": "StyleView",
            "_model_name": "DescriptionStyleModel",
            "description_width": "",
            "_view_module": "@jupyter-widgets/base",
            "_model_module_version": "1.5.0",
            "_view_count": null,
            "_view_module_version": "1.2.0",
            "_model_module": "@jupyter-widgets/controls"
          }
        },
        "d2da91e27825431f9763b37599361e0f": {
          "model_module": "@jupyter-widgets/base",
          "model_name": "LayoutModel",
          "state": {
            "_view_name": "LayoutView",
            "grid_template_rows": null,
            "right": null,
            "justify_content": null,
            "_view_module": "@jupyter-widgets/base",
            "overflow": null,
            "_model_module_version": "1.2.0",
            "_view_count": null,
            "flex_flow": null,
            "width": null,
            "min_width": null,
            "border": null,
            "align_items": null,
            "bottom": null,
            "_model_module": "@jupyter-widgets/base",
            "top": null,
            "grid_column": null,
            "overflow_y": null,
            "overflow_x": null,
            "grid_auto_flow": null,
            "grid_area": null,
            "grid_template_columns": null,
            "flex": null,
            "_model_name": "LayoutModel",
            "justify_items": null,
            "grid_row": null,
            "max_height": null,
            "align_content": null,
            "visibility": null,
            "align_self": null,
            "height": null,
            "min_height": null,
            "padding": null,
            "grid_auto_rows": null,
            "grid_gap": null,
            "max_width": null,
            "order": null,
            "_view_module_version": "1.2.0",
            "grid_template_areas": null,
            "object_position": null,
            "object_fit": null,
            "grid_auto_columns": null,
            "margin": null,
            "display": null,
            "left": null
          }
        },
        "2d2d7345e3724cdfa06d04883899fc39": {
          "model_module": "@jupyter-widgets/controls",
          "model_name": "HBoxModel",
          "state": {
            "_view_name": "HBoxView",
            "_dom_classes": [],
            "_model_name": "HBoxModel",
            "_view_module": "@jupyter-widgets/controls",
            "_model_module_version": "1.5.0",
            "_view_count": null,
            "_view_module_version": "1.5.0",
            "box_style": "",
            "layout": "IPY_MODEL_6c7f6304cac84f049aea3705e6ea8b16",
            "_model_module": "@jupyter-widgets/controls",
            "children": [
              "IPY_MODEL_b9412e07a7984d1f9de134592807a3b3",
              "IPY_MODEL_4fa2b7a6caf942f2aaeb28ba1abc0556"
            ]
          }
        },
        "6c7f6304cac84f049aea3705e6ea8b16": {
          "model_module": "@jupyter-widgets/base",
          "model_name": "LayoutModel",
          "state": {
            "_view_name": "LayoutView",
            "grid_template_rows": null,
            "right": null,
            "justify_content": null,
            "_view_module": "@jupyter-widgets/base",
            "overflow": null,
            "_model_module_version": "1.2.0",
            "_view_count": null,
            "flex_flow": null,
            "width": null,
            "min_width": null,
            "border": null,
            "align_items": null,
            "bottom": null,
            "_model_module": "@jupyter-widgets/base",
            "top": null,
            "grid_column": null,
            "overflow_y": null,
            "overflow_x": null,
            "grid_auto_flow": null,
            "grid_area": null,
            "grid_template_columns": null,
            "flex": null,
            "_model_name": "LayoutModel",
            "justify_items": null,
            "grid_row": null,
            "max_height": null,
            "align_content": null,
            "visibility": null,
            "align_self": null,
            "height": null,
            "min_height": null,
            "padding": null,
            "grid_auto_rows": null,
            "grid_gap": null,
            "max_width": null,
            "order": null,
            "_view_module_version": "1.2.0",
            "grid_template_areas": null,
            "object_position": null,
            "object_fit": null,
            "grid_auto_columns": null,
            "margin": null,
            "display": null,
            "left": null
          }
        },
        "b9412e07a7984d1f9de134592807a3b3": {
          "model_module": "@jupyter-widgets/controls",
          "model_name": "FloatProgressModel",
          "state": {
            "_view_name": "ProgressView",
            "style": "IPY_MODEL_2721bb8b1e4547bfa1f7a1c173374dc2",
            "_dom_classes": [],
            "description": "",
            "_model_name": "FloatProgressModel",
            "bar_style": "success",
            "max": 1,
            "_view_module": "@jupyter-widgets/controls",
            "_model_module_version": "1.5.0",
            "value": 1,
            "_view_count": null,
            "_view_module_version": "1.5.0",
            "orientation": "horizontal",
            "min": 0,
            "description_tooltip": null,
            "_model_module": "@jupyter-widgets/controls",
            "layout": "IPY_MODEL_52866b9804544aadb7563bde235f4238"
          }
        },
        "4fa2b7a6caf942f2aaeb28ba1abc0556": {
          "model_module": "@jupyter-widgets/controls",
          "model_name": "HTMLModel",
          "state": {
            "_view_name": "HTMLView",
            "style": "IPY_MODEL_d0b7f78a5e8c444ca2200a7431d13b9e",
            "_dom_classes": [],
            "description": "",
            "_model_name": "HTMLModel",
            "placeholder": "​",
            "_view_module": "@jupyter-widgets/controls",
            "_model_module_version": "1.5.0",
            "value": " 8192/? [00:00&lt;00:00, 28849.34it/s]",
            "_view_count": null,
            "_view_module_version": "1.5.0",
            "description_tooltip": null,
            "_model_module": "@jupyter-widgets/controls",
            "layout": "IPY_MODEL_6351bd4bbcc84bf1a3ab44e319a74ac7"
          }
        },
        "2721bb8b1e4547bfa1f7a1c173374dc2": {
          "model_module": "@jupyter-widgets/controls",
          "model_name": "ProgressStyleModel",
          "state": {
            "_view_name": "StyleView",
            "_model_name": "ProgressStyleModel",
            "description_width": "initial",
            "_view_module": "@jupyter-widgets/base",
            "_model_module_version": "1.5.0",
            "_view_count": null,
            "_view_module_version": "1.2.0",
            "bar_color": null,
            "_model_module": "@jupyter-widgets/controls"
          }
        },
        "52866b9804544aadb7563bde235f4238": {
          "model_module": "@jupyter-widgets/base",
          "model_name": "LayoutModel",
          "state": {
            "_view_name": "LayoutView",
            "grid_template_rows": null,
            "right": null,
            "justify_content": null,
            "_view_module": "@jupyter-widgets/base",
            "overflow": null,
            "_model_module_version": "1.2.0",
            "_view_count": null,
            "flex_flow": null,
            "width": null,
            "min_width": null,
            "border": null,
            "align_items": null,
            "bottom": null,
            "_model_module": "@jupyter-widgets/base",
            "top": null,
            "grid_column": null,
            "overflow_y": null,
            "overflow_x": null,
            "grid_auto_flow": null,
            "grid_area": null,
            "grid_template_columns": null,
            "flex": null,
            "_model_name": "LayoutModel",
            "justify_items": null,
            "grid_row": null,
            "max_height": null,
            "align_content": null,
            "visibility": null,
            "align_self": null,
            "height": null,
            "min_height": null,
            "padding": null,
            "grid_auto_rows": null,
            "grid_gap": null,
            "max_width": null,
            "order": null,
            "_view_module_version": "1.2.0",
            "grid_template_areas": null,
            "object_position": null,
            "object_fit": null,
            "grid_auto_columns": null,
            "margin": null,
            "display": null,
            "left": null
          }
        },
        "d0b7f78a5e8c444ca2200a7431d13b9e": {
          "model_module": "@jupyter-widgets/controls",
          "model_name": "DescriptionStyleModel",
          "state": {
            "_view_name": "StyleView",
            "_model_name": "DescriptionStyleModel",
            "description_width": "",
            "_view_module": "@jupyter-widgets/base",
            "_model_module_version": "1.5.0",
            "_view_count": null,
            "_view_module_version": "1.2.0",
            "_model_module": "@jupyter-widgets/controls"
          }
        },
        "6351bd4bbcc84bf1a3ab44e319a74ac7": {
          "model_module": "@jupyter-widgets/base",
          "model_name": "LayoutModel",
          "state": {
            "_view_name": "LayoutView",
            "grid_template_rows": null,
            "right": null,
            "justify_content": null,
            "_view_module": "@jupyter-widgets/base",
            "overflow": null,
            "_model_module_version": "1.2.0",
            "_view_count": null,
            "flex_flow": null,
            "width": null,
            "min_width": null,
            "border": null,
            "align_items": null,
            "bottom": null,
            "_model_module": "@jupyter-widgets/base",
            "top": null,
            "grid_column": null,
            "overflow_y": null,
            "overflow_x": null,
            "grid_auto_flow": null,
            "grid_area": null,
            "grid_template_columns": null,
            "flex": null,
            "_model_name": "LayoutModel",
            "justify_items": null,
            "grid_row": null,
            "max_height": null,
            "align_content": null,
            "visibility": null,
            "align_self": null,
            "height": null,
            "min_height": null,
            "padding": null,
            "grid_auto_rows": null,
            "grid_gap": null,
            "max_width": null,
            "order": null,
            "_view_module_version": "1.2.0",
            "grid_template_areas": null,
            "object_position": null,
            "object_fit": null,
            "grid_auto_columns": null,
            "margin": null,
            "display": null,
            "left": null
          }
        }
      }
    }
  },
  "cells": [
    {
      "cell_type": "markdown",
      "metadata": {
        "id": "yjDh6W8p8JRo",
        "colab_type": "text"
      },
      "source": [
        "# MNIST Classification\n",
        "It's been a long time MNIST, how have you been? Say hello to all the digits for me."
      ]
    },
    {
      "cell_type": "code",
      "metadata": {
        "id": "ogyFk68P-XIg",
        "colab_type": "code",
        "colab": {}
      },
      "source": [
        "import torch\n",
        "import torchvision\n",
        "from torchvision.datasets import MNIST"
      ],
      "execution_count": 0,
      "outputs": []
    },
    {
      "cell_type": "code",
      "metadata": {
        "id": "YXJzni5f-zYI",
        "colab_type": "code",
        "colab": {
          "base_uri": "https://localhost:8080/",
          "height": 417,
          "referenced_widgets": [
            "e378c5cd78f244d3bea9abcf82c64ce2",
            "4d4aa931f1f84ed3a092b9315a60c9b4",
            "6cd264b3677340158aa0874841458569",
            "a8311ff5134c4087b06fd5dc1f2aa491",
            "1f9fb335b8ab4da28ea0db6aa982cdd2",
            "1ea869a2a4354a68ab3abee34119338a",
            "59de66ee00df4125958705e7cc6d21fa",
            "21a49bf4b88e4bc4a0b0003954d08b2e",
            "427c861e80eb464eb08aafec844450f0",
            "f58ebcd6f5064faab7279e86cc10f68e",
            "afe19fcf99304e8cb4ceb6686b3e4b6a",
            "399ed2f91b644369ac0ab0208f46a2b7",
            "8d530668d35247008e1c4b754cc37851",
            "1d6ef1e550f248f7bbc926af8f5555b3",
            "92b74a1d38a84a22a4ee52749fbe9f9e",
            "3375b74f47224f5c8b8618b6c9e42874",
            "c3d40cd4cf9b450b93ca05d9954db4b5",
            "541da17a270b4016bb090eb232c4b3ad",
            "47471783e293492687230cfb102fc4a5",
            "f7ab1a33b05c4378a6dfedc62508e1da",
            "97dd9f0603e04f29992763e4cbecff79",
            "71f50ddd65e74a578e3d4aec7e18db65",
            "ce1d448d720447098782c8bd2bf3e2f0",
            "d2da91e27825431f9763b37599361e0f",
            "2d2d7345e3724cdfa06d04883899fc39",
            "6c7f6304cac84f049aea3705e6ea8b16",
            "b9412e07a7984d1f9de134592807a3b3",
            "4fa2b7a6caf942f2aaeb28ba1abc0556",
            "2721bb8b1e4547bfa1f7a1c173374dc2",
            "52866b9804544aadb7563bde235f4238",
            "d0b7f78a5e8c444ca2200a7431d13b9e",
            "6351bd4bbcc84bf1a3ab44e319a74ac7"
          ]
        },
        "outputId": "e15fdb7d-ff0a-48f3-9db3-b39812dfd370"
      },
      "source": [
        "# Downloading training dataset\n",
        "dataset = MNIST(root='data/', download=True)"
      ],
      "execution_count": 4,
      "outputs": [
        {
          "output_type": "stream",
          "text": [
            "Downloading http://yann.lecun.com/exdb/mnist/train-images-idx3-ubyte.gz to data/MNIST/raw/train-images-idx3-ubyte.gz\n"
          ],
          "name": "stdout"
        },
        {
          "output_type": "display_data",
          "data": {
            "application/vnd.jupyter.widget-view+json": {
              "model_id": "e378c5cd78f244d3bea9abcf82c64ce2",
              "version_minor": 0,
              "version_major": 2
            },
            "text/plain": [
              "HBox(children=(FloatProgress(value=1.0, bar_style='info', max=1.0), HTML(value='')))"
            ]
          },
          "metadata": {
            "tags": []
          }
        },
        {
          "output_type": "stream",
          "text": [
            "Extracting data/MNIST/raw/train-images-idx3-ubyte.gz to data/MNIST/raw\n",
            "Downloading http://yann.lecun.com/exdb/mnist/train-labels-idx1-ubyte.gz to data/MNIST/raw/train-labels-idx1-ubyte.gz\n"
          ],
          "name": "stdout"
        },
        {
          "output_type": "display_data",
          "data": {
            "application/vnd.jupyter.widget-view+json": {
              "model_id": "427c861e80eb464eb08aafec844450f0",
              "version_minor": 0,
              "version_major": 2
            },
            "text/plain": [
              "HBox(children=(FloatProgress(value=1.0, bar_style='info', max=1.0), HTML(value='')))"
            ]
          },
          "metadata": {
            "tags": []
          }
        },
        {
          "output_type": "stream",
          "text": [
            "Extracting data/MNIST/raw/train-labels-idx1-ubyte.gz to data/MNIST/raw\n",
            "Downloading http://yann.lecun.com/exdb/mnist/t10k-images-idx3-ubyte.gz to data/MNIST/raw/t10k-images-idx3-ubyte.gz\n"
          ],
          "name": "stdout"
        },
        {
          "output_type": "display_data",
          "data": {
            "application/vnd.jupyter.widget-view+json": {
              "model_id": "c3d40cd4cf9b450b93ca05d9954db4b5",
              "version_minor": 0,
              "version_major": 2
            },
            "text/plain": [
              "HBox(children=(FloatProgress(value=1.0, bar_style='info', max=1.0), HTML(value='')))"
            ]
          },
          "metadata": {
            "tags": []
          }
        },
        {
          "output_type": "stream",
          "text": [
            "Extracting data/MNIST/raw/t10k-images-idx3-ubyte.gz to data/MNIST/raw\n",
            "Downloading http://yann.lecun.com/exdb/mnist/t10k-labels-idx1-ubyte.gz to data/MNIST/raw/t10k-labels-idx1-ubyte.gz\n"
          ],
          "name": "stdout"
        },
        {
          "output_type": "display_data",
          "data": {
            "application/vnd.jupyter.widget-view+json": {
              "model_id": "2d2d7345e3724cdfa06d04883899fc39",
              "version_minor": 0,
              "version_major": 2
            },
            "text/plain": [
              "HBox(children=(FloatProgress(value=1.0, bar_style='info', max=1.0), HTML(value='')))"
            ]
          },
          "metadata": {
            "tags": []
          }
        },
        {
          "output_type": "stream",
          "text": [
            "Extracting data/MNIST/raw/t10k-labels-idx1-ubyte.gz to data/MNIST/raw\n",
            "Processing...\n",
            "\n",
            "\n",
            "\n",
            "Done!\n"
          ],
          "name": "stdout"
        },
        {
          "output_type": "stream",
          "text": [
            "/pytorch/torch/csrc/utils/tensor_numpy.cpp:141: UserWarning: The given NumPy array is not writeable, and PyTorch does not support non-writeable tensors. This means you can write to the underlying (supposedly non-writeable) NumPy array using the tensor. You may want to copy the array to protect its data or make it writeable before converting it to a tensor. This type of warning will be suppressed for the rest of this program.\n"
          ],
          "name": "stderr"
        }
      ]
    },
    {
      "cell_type": "code",
      "metadata": {
        "id": "Q62Azs7G_L-T",
        "colab_type": "code",
        "colab": {
          "base_uri": "https://localhost:8080/",
          "height": 35
        },
        "outputId": "ca3f09d7-5b75-41b7-96ac-32212eaa2aa6"
      },
      "source": [
        "len(dataset)"
      ],
      "execution_count": 5,
      "outputs": [
        {
          "output_type": "execute_result",
          "data": {
            "text/plain": [
              "60000"
            ]
          },
          "metadata": {
            "tags": []
          },
          "execution_count": 5
        }
      ]
    },
    {
      "cell_type": "code",
      "metadata": {
        "id": "ghrsJ4-R_dB_",
        "colab_type": "code",
        "colab": {}
      },
      "source": [
        "train_dataset = MNIST(root='data/', train=False)"
      ],
      "execution_count": 0,
      "outputs": []
    },
    {
      "cell_type": "code",
      "metadata": {
        "id": "4nyVatee_ngk",
        "colab_type": "code",
        "colab": {
          "base_uri": "https://localhost:8080/",
          "height": 35
        },
        "outputId": "4c049ff0-9016-46f9-ba02-ddb736a0eb9b"
      },
      "source": [
        "len(train_dataset)"
      ],
      "execution_count": 7,
      "outputs": [
        {
          "output_type": "execute_result",
          "data": {
            "text/plain": [
              "10000"
            ]
          },
          "metadata": {
            "tags": []
          },
          "execution_count": 7
        }
      ]
    },
    {
      "cell_type": "code",
      "metadata": {
        "id": "pjMh-u_F_qRw",
        "colab_type": "code",
        "colab": {
          "base_uri": "https://localhost:8080/",
          "height": 35
        },
        "outputId": "a839035d-c0af-467b-b69a-8b2e0c5f1aad"
      },
      "source": [
        "dataset[0]"
      ],
      "execution_count": 8,
      "outputs": [
        {
          "output_type": "execute_result",
          "data": {
            "text/plain": [
              "(<PIL.Image.Image image mode=L size=28x28 at 0x7FB9B3786048>, 5)"
            ]
          },
          "metadata": {
            "tags": []
          },
          "execution_count": 8
        }
      ]
    },
    {
      "cell_type": "code",
      "metadata": {
        "id": "PcKDch3C_1bh",
        "colab_type": "code",
        "colab": {
          "base_uri": "https://localhost:8080/",
          "height": 45
        },
        "outputId": "abc22652-5e46-4e47-b473-5f67bffd6246"
      },
      "source": [
        "dataset[0][0]"
      ],
      "execution_count": 9,
      "outputs": [
        {
          "output_type": "execute_result",
          "data": {
            "image/png": "[encoded data removed]",
            "text/plain": [
              "<PIL.Image.Image image mode=L size=28x28 at 0x7FB9B37860F0>"
            ]
          },
          "metadata": {
            "tags": []
          },
          "execution_count": 9
        }
      ]
    },
    {
      "cell_type": "code",
      "metadata": {
        "id": "CGQVDUTl_5S5",
        "colab_type": "code",
        "colab": {
          "base_uri": "https://localhost:8080/",
          "height": 35
        },
        "outputId": "9826470a-00fd-427b-80ca-4578863b097f"
      },
      "source": [
        "import matplotlib.pyplot as plt\n",
        "%matplotlib inline"
      ],
      "execution_count": 10,
      "outputs": [
        {
          "output_type": "stream",
          "text": [
            "\n"
          ],
          "name": "stdout"
        }
      ]
    },
    {
      "cell_type": "code",
      "metadata": {
        "id": "JlCocLvPANCj",
        "colab_type": "code",
        "colab": {
          "base_uri": "https://localhost:8080/",
          "height": 283
        },
        "outputId": "20bd2a53-9c53-4fc3-e9fa-2fedb4a300a5"
      },
      "source": [
        "image, label = dataset[0]\n",
        "plt.imshow(image) # cmap='gray'\n",
        "print('Label = ', label)"
      ],
      "execution_count": 11,
      "outputs": [
        {
          "output_type": "stream",
          "text": [
            "Label =  5\n"
          ],
          "name": "stdout"
        },
        {
          "output_type": "display_data",
          "data": {
            "image/png": "[encoded data removed]",
            "text/plain": [
              "<Figure size 432x288 with 1 Axes>"
            ]
          },
          "metadata": {
            "tags": [],
            "needs_background": "light"
          }
        }
      ]
    },
    {
      "cell_type": "markdown",
      "metadata": {
        "id": "1AMzospwAg8A",
        "colab_type": "text"
      },
      "source": [
        "Pytorch cant work directly with images, hence we need to transform them into tensors using pytorch.transforms"
      ]
    },
    {
      "cell_type": "code",
      "metadata": {
        "id": "lBV3Q-JfA7Kx",
        "colab_type": "code",
        "colab": {
          "base_uri": "https://localhost:8080/",
          "height": 35
        },
        "outputId": "9596c45d-3628-453f-faf3-e2f4051fd781"
      },
      "source": [
        "import torchvision.transforms as transforms\n",
        "# loading dataset again\n",
        "dataset = MNIST(root='data/', train=True, transform=transforms.ToTensor())\n",
        "img_tensor, label = dataset[0]\n",
        "print(img_tensor.shape, label)"
      ],
      "execution_count": 12,
      "outputs": [
        {
          "output_type": "stream",
          "text": [
            "torch.Size([1, 28, 28]) 5\n"
          ],
          "name": "stdout"
        }
      ]
    },
    {
      "cell_type": "markdown",
      "metadata": {
        "id": "Ljv6VobXBoCX",
        "colab_type": "text"
      },
      "source": [
        "This is of form (color depth, height, width)"
      ]
    },
    {
      "cell_type": "markdown",
      "metadata": {
        "id": "oeUE2rhNNqfL",
        "colab_type": "text"
      },
      "source": [
        "## Torch version of Train-Test Split"
      ]
    },
    {
      "cell_type": "code",
      "metadata": {
        "id": "zPDMndK4N7Pg",
        "colab_type": "code",
        "colab": {
          "base_uri": "https://localhost:8080/",
          "height": 35
        },
        "outputId": "05778857-6321-4676-b2ff-a6cba4ec8151"
      },
      "source": [
        "from torch.utils.data import random_split\n",
        "# for train test split at 1/6th\n",
        "train_ds, val_ds = random_split(dataset=dataset, lengths=[int(len(dataset)*5/6), int(len(dataset)*1/6)])\n",
        "len(train_ds), len(val_ds)"
      ],
      "execution_count": 13,
      "outputs": [
        {
          "output_type": "execute_result",
          "data": {
            "text/plain": [
              "(50000, 10000)"
            ]
          },
          "metadata": {
            "tags": []
          },
          "execution_count": 13
        }
      ]
    },
    {
      "cell_type": "markdown",
      "metadata": {
        "id": "I6DxX3N4O_aM",
        "colab_type": "text"
      },
      "source": [
        "## DataLoader"
      ]
    },
    {
      "cell_type": "code",
      "metadata": {
        "id": "a9XpekycPKJ5",
        "colab_type": "code",
        "colab": {}
      },
      "source": [
        "from torch.utils.data import DataLoader\n",
        "batch_size = 128\n",
        "train_loader = DataLoader(dataset=train_ds, batch_size=batch_size, shuffle=True)\n",
        "val_loader = DataLoader(dataset=val_ds, batch_size=batch_size, shuffle=False)"
      ],
      "execution_count": 0,
      "outputs": []
    },
    {
      "cell_type": "code",
      "metadata": {
        "id": "Vdn7U5r5RJiK",
        "colab_type": "code",
        "colab": {
          "base_uri": "https://localhost:8080/",
          "height": 35
        },
        "outputId": "34aa5cb6-b4eb-489a-bb8a-1729e96859d5"
      },
      "source": [
        "image, label = train_ds[10]; label"
      ],
      "execution_count": 15,
      "outputs": [
        {
          "output_type": "execute_result",
          "data": {
            "text/plain": [
              "5"
            ]
          },
          "metadata": {
            "tags": []
          },
          "execution_count": 15
        }
      ]
    },
    {
      "cell_type": "markdown",
      "metadata": {
        "id": "S_bwlrp8RwsL",
        "colab_type": "text"
      },
      "source": [
        "## Model"
      ]
    },
    {
      "cell_type": "code",
      "metadata": {
        "id": "zx4RbNdGSIAj",
        "colab_type": "code",
        "colab": {
          "base_uri": "https://localhost:8080/",
          "height": 179
        },
        "outputId": "90c78edb-ab81-4654-d4b2-2ee74c3f0a48"
      },
      "source": [
        "import torch.nn as nn\n",
        "\n",
        "input_size = 28*28\n",
        "num_classes = 10\n",
        "\n",
        "# LogReg\n",
        "model = nn.Linear(input_size, num_classes)\n",
        "model.weight.shape, model.weight"
      ],
      "execution_count": 16,
      "outputs": [
        {
          "output_type": "execute_result",
          "data": {
            "text/plain": [
              "(torch.Size([10, 784]), Parameter containing:\n",
              " tensor([[ 0.0063,  0.0054,  0.0193,  ..., -0.0042, -0.0339,  0.0349],\n",
              "         [-0.0033,  0.0059,  0.0129,  ...,  0.0262, -0.0279, -0.0306],\n",
              "         [-0.0202, -0.0112,  0.0241,  ...,  0.0072, -0.0090, -0.0121],\n",
              "         ...,\n",
              "         [-0.0113, -0.0086,  0.0315,  ..., -0.0202, -0.0088, -0.0260],\n",
              "         [-0.0177, -0.0148, -0.0329,  ...,  0.0338, -0.0264, -0.0050],\n",
              "         [ 0.0201,  0.0109,  0.0067,  ..., -0.0296, -0.0072,  0.0006]],\n",
              "        requires_grad=True))"
            ]
          },
          "metadata": {
            "tags": []
          },
          "execution_count": 16
        }
      ]
    },
    {
      "cell_type": "code",
      "metadata": {
        "id": "PJ_z440PSlPF",
        "colab_type": "code",
        "colab": {
          "base_uri": "https://localhost:8080/",
          "height": 35
        },
        "outputId": "0da151f6-749e-4718-c57f-e7801074792b"
      },
      "source": [
        "model.bias.shape"
      ],
      "execution_count": 17,
      "outputs": [
        {
          "output_type": "execute_result",
          "data": {
            "text/plain": [
              "torch.Size([10])"
            ]
          },
          "metadata": {
            "tags": []
          },
          "execution_count": 17
        }
      ]
    },
    {
      "cell_type": "markdown",
      "metadata": {
        "id": "4QMSevjFS1Xy",
        "colab_type": "text"
      },
      "source": [
        "The input should be flattened (bear with me here)\n",
        "Hence instead of going forward with this model, make custom model that inherits from torch.nn.Module class"
      ]
    },
    {
      "cell_type": "code",
      "metadata": {
        "id": "9qJbZRtgS9GY",
        "colab_type": "code",
        "colab": {
          "base_uri": "https://localhost:8080/",
          "height": 35
        },
        "outputId": "bef1472a-95a6-4de1-aeeb-0f7a28f52840"
      },
      "source": [
        "# Inheritance\n",
        "class MnistModel(nn.Module):\n",
        "    def __init__(self):\n",
        "        super().__init__() # Call constructor of nn.Module \n",
        "        self.linear = nn.Linear(input_size, num_classes) # method overriding\n",
        "    \n",
        "    def forward(self, xb):\n",
        "        xb = xb.reshape(-1, 784) # reshaping 28*28 to 784\n",
        "        out = self.linear(xb)\n",
        "        return out\n",
        "# Now when calling the forward(data_batch), first it is reshaped to a tensor of size 784\n",
        "# Then, nn.Linear is called\n",
        "\n",
        "\n",
        "model = MnistModel()\n",
        "# Now the model has a linear attribute\n",
        "model.linear.weight.shape, model.linear.bias.shape"
      ],
      "execution_count": 18,
      "outputs": [
        {
          "output_type": "execute_result",
          "data": {
            "text/plain": [
              "(torch.Size([10, 784]), torch.Size([10]))"
            ]
          },
          "metadata": {
            "tags": []
          },
          "execution_count": 18
        }
      ]
    },
    {
      "cell_type": "code",
      "metadata": {
        "id": "Sah2VdgyT-ne",
        "colab_type": "code",
        "colab": {
          "base_uri": "https://localhost:8080/",
          "height": 215
        },
        "outputId": "fbe7bb26-59ca-4c81-bd55-cd63b56c1f00"
      },
      "source": [
        "model.parameters(), list(model.parameters())"
      ],
      "execution_count": 19,
      "outputs": [
        {
          "output_type": "execute_result",
          "data": {
            "text/plain": [
              "(<generator object Module.parameters at 0x7fb9b2d65ca8>, [Parameter containing:\n",
              "  tensor([[ 0.0067,  0.0137,  0.0058,  ...,  0.0301, -0.0339,  0.0048],\n",
              "          [-0.0095,  0.0016, -0.0355,  ...,  0.0300, -0.0106,  0.0261],\n",
              "          [ 0.0128, -0.0355, -0.0177,  ..., -0.0337,  0.0083,  0.0045],\n",
              "          ...,\n",
              "          [-0.0264,  0.0335,  0.0003,  ...,  0.0185,  0.0073,  0.0039],\n",
              "          [ 0.0162,  0.0292, -0.0113,  ..., -0.0301, -0.0022,  0.0201],\n",
              "          [ 0.0353, -0.0342, -0.0139,  ...,  0.0063, -0.0122, -0.0177]],\n",
              "         requires_grad=True), Parameter containing:\n",
              "  tensor([-0.0227, -0.0072, -0.0130,  0.0195, -0.0041,  0.0097, -0.0003, -0.0038,\n",
              "          -0.0032, -0.0067], requires_grad=True)])"
            ]
          },
          "metadata": {
            "tags": []
          },
          "execution_count": 19
        }
      ]
    },
    {
      "cell_type": "markdown",
      "metadata": {
        "id": "ciBG57NcVM0i",
        "colab_type": "text"
      },
      "source": [
        "## Direct prediction (without training)"
      ]
    },
    {
      "cell_type": "code",
      "metadata": {
        "id": "i33N_EgyVk36",
        "colab_type": "code",
        "colab": {
          "base_uri": "https://localhost:8080/",
          "height": 35
        },
        "outputId": "fa206705-9bd2-48c5-9ae8-b6c2c6cd5ecb"
      },
      "source": [
        "for images, labels in train_loader:\n",
        "    outputs = model(images)\n",
        "    break # stops at first 128 sized batch\n",
        "print(outputs.shape) # we get 128 outputs of 10 sized tensors"
      ],
      "execution_count": 20,
      "outputs": [
        {
          "output_type": "stream",
          "text": [
            "torch.Size([128, 10])\n"
          ],
          "name": "stdout"
        }
      ]
    },
    {
      "cell_type": "code",
      "metadata": {
        "id": "eG99Y_0oV70e",
        "colab_type": "code",
        "colab": {
          "base_uri": "https://localhost:8080/",
          "height": 53
        },
        "outputId": "c3b9025e-706d-4720-f0f4-ad2e4fdd3108"
      },
      "source": [
        "outputs[0]"
      ],
      "execution_count": 21,
      "outputs": [
        {
          "output_type": "execute_result",
          "data": {
            "text/plain": [
              "tensor([ 0.2920, -0.0593, -0.0073,  0.1750, -0.0682,  0.3251,  0.2801,  0.0100,\n",
              "         0.1076,  0.0760], grad_fn=<SelectBackward>)"
            ]
          },
          "metadata": {
            "tags": []
          },
          "execution_count": 21
        }
      ]
    },
    {
      "cell_type": "code",
      "metadata": {
        "id": "zsTrplMKWKDV",
        "colab_type": "code",
        "colab": {
          "base_uri": "https://localhost:8080/",
          "height": 35
        },
        "outputId": "fb5b3d78-5d47-4a12-885a-223182929b8c"
      },
      "source": [
        "outputs[0].sum()"
      ],
      "execution_count": 22,
      "outputs": [
        {
          "output_type": "execute_result",
          "data": {
            "text/plain": [
              "tensor(1.1310, grad_fn=<SumBackward0>)"
            ]
          },
          "metadata": {
            "tags": []
          },
          "execution_count": 22
        }
      ]
    },
    {
      "cell_type": "markdown",
      "metadata": {
        "id": "w-b4YojTWN7H",
        "colab_type": "text"
      },
      "source": [
        "So, these are raw predictions, not probabilities. Use softmax. It is included in torch.nn.functional"
      ]
    },
    {
      "cell_type": "code",
      "metadata": {
        "id": "qZBW1gvaWS8v",
        "colab_type": "code",
        "colab": {
          "base_uri": "https://localhost:8080/",
          "height": 35
        },
        "outputId": "692c0c33-441d-4a06-fcea-1db8deb88144"
      },
      "source": [
        "import torch.nn.functional as F\n",
        "\n",
        "# Apply softmax along each output row\n",
        "probs = F.softmax(outputs, dim=1) # as outputs.shape == [128,10] and we need to calculate softmax along dim output.shape[1] ie 10\n",
        "probs[0].sum(), probs[0].sum().item()"
      ],
      "execution_count": 23,
      "outputs": [
        {
          "output_type": "execute_result",
          "data": {
            "text/plain": [
              "(tensor(1.0000, grad_fn=<SumBackward0>), 0.9999999403953552)"
            ]
          },
          "metadata": {
            "tags": []
          },
          "execution_count": 23
        }
      ]
    },
    {
      "cell_type": "code",
      "metadata": {
        "id": "LEhwYx4oWj4g",
        "colab_type": "code",
        "colab": {
          "base_uri": "https://localhost:8080/",
          "height": 35
        },
        "outputId": "b67253be-b7b9-487b-c935-e16bfc55ccd8"
      },
      "source": [
        "probs.shape"
      ],
      "execution_count": 24,
      "outputs": [
        {
          "output_type": "execute_result",
          "data": {
            "text/plain": [
              "torch.Size([128, 10])"
            ]
          },
          "metadata": {
            "tags": []
          },
          "execution_count": 24
        }
      ]
    },
    {
      "cell_type": "code",
      "metadata": {
        "id": "Y4j4MeFUYJMK",
        "colab_type": "code",
        "colab": {
          "base_uri": "https://localhost:8080/",
          "height": 395
        },
        "outputId": "aed9f0fc-1801-4b2a-9866-bcab2eb4d7f7"
      },
      "source": [
        "# Find the max of the probs to get prediction\n",
        "max_probs, preds = torch.max(probs, dim=1)\n",
        "max_probs, preds"
      ],
      "execution_count": 25,
      "outputs": [
        {
          "output_type": "execute_result",
          "data": {
            "text/plain": [
              "(tensor([0.1224, 0.1182, 0.1410, 0.1313, 0.1230, 0.1239, 0.1205, 0.1289, 0.1251,\n",
              "         0.1242, 0.1309, 0.1326, 0.1573, 0.1313, 0.1354, 0.1549, 0.1581, 0.1381,\n",
              "         0.1307, 0.1485, 0.1169, 0.1602, 0.1307, 0.1319, 0.1243, 0.1368, 0.1321,\n",
              "         0.1353, 0.1263, 0.1344, 0.1602, 0.1504, 0.1269, 0.1143, 0.1149, 0.1336,\n",
              "         0.1258, 0.1286, 0.1323, 0.1258, 0.1342, 0.1205, 0.1201, 0.1164, 0.1513,\n",
              "         0.1285, 0.1264, 0.1210, 0.1380, 0.1323, 0.1298, 0.1226, 0.1416, 0.1394,\n",
              "         0.1354, 0.1279, 0.1152, 0.1169, 0.1219, 0.1300, 0.1491, 0.1538, 0.1364,\n",
              "         0.1508, 0.1087, 0.1401, 0.1453, 0.1233, 0.1497, 0.1112, 0.1337, 0.1328,\n",
              "         0.1154, 0.1392, 0.1156, 0.1249, 0.1221, 0.1206, 0.1247, 0.1405, 0.1331,\n",
              "         0.1386, 0.1301, 0.1127, 0.1268, 0.1282, 0.1226, 0.1170, 0.1330, 0.1218,\n",
              "         0.1188, 0.1195, 0.1107, 0.1116, 0.1173, 0.1434, 0.1224, 0.1230, 0.1264,\n",
              "         0.1193, 0.1206, 0.1400, 0.1325, 0.1262, 0.1448, 0.1322, 0.1276, 0.1508,\n",
              "         0.1292, 0.1354, 0.1226, 0.1220, 0.1440, 0.1127, 0.1248, 0.1685, 0.1324,\n",
              "         0.1246, 0.1216, 0.1197, 0.1265, 0.1317, 0.1251, 0.1234, 0.1363, 0.1381,\n",
              "         0.1534, 0.1641], grad_fn=<MaxBackward0>),\n",
              " tensor([5, 5, 5, 6, 7, 5, 6, 5, 8, 8, 7, 0, 0, 0, 8, 8, 0, 6, 0, 8, 6, 8, 8, 5,\n",
              "         5, 5, 0, 7, 0, 5, 7, 8, 8, 6, 5, 5, 0, 5, 7, 0, 0, 8, 1, 8, 5, 3, 5, 5,\n",
              "         8, 5, 0, 8, 5, 0, 8, 0, 0, 8, 7, 6, 8, 5, 6, 5, 1, 5, 8, 7, 0, 5, 3, 0,\n",
              "         5, 7, 6, 0, 5, 0, 7, 6, 8, 8, 0, 9, 0, 0, 0, 6, 8, 5, 5, 0, 5, 5, 0, 0,\n",
              "         7, 5, 0, 6, 3, 5, 5, 7, 5, 8, 5, 0, 9, 6, 5, 5, 8, 0, 7, 0, 2, 3, 5, 5,\n",
              "         5, 5, 9, 6, 8, 6, 0, 0]))"
            ]
          },
          "metadata": {
            "tags": []
          },
          "execution_count": 25
        }
      ]
    },
    {
      "cell_type": "code",
      "metadata": {
        "id": "FZ9o4MafYcOD",
        "colab_type": "code",
        "colab": {
          "base_uri": "https://localhost:8080/",
          "height": 125
        },
        "outputId": "3f392604-d231-4525-a51d-2d55d6af21ab"
      },
      "source": [
        "labels"
      ],
      "execution_count": 26,
      "outputs": [
        {
          "output_type": "execute_result",
          "data": {
            "text/plain": [
              "tensor([3, 8, 3, 7, 2, 7, 8, 3, 8, 5, 9, 8, 8, 6, 8, 4, 0, 6, 3, 0, 5, 5, 5, 3,\n",
              "        5, 9, 6, 4, 5, 2, 0, 4, 5, 6, 1, 5, 8, 3, 6, 0, 0, 4, 1, 7, 2, 2, 8, 3,\n",
              "        4, 3, 4, 6, 7, 0, 9, 5, 7, 7, 9, 3, 9, 2, 6, 3, 1, 8, 4, 0, 3, 5, 4, 9,\n",
              "        8, 9, 3, 7, 9, 7, 2, 8, 4, 5, 9, 1, 7, 5, 7, 2, 2, 2, 1, 8, 0, 3, 7, 0,\n",
              "        2, 8, 6, 2, 9, 5, 3, 6, 3, 0, 8, 5, 1, 8, 7, 1, 6, 6, 3, 0, 1, 8, 7, 2,\n",
              "        1, 3, 2, 1, 4, 1, 0, 5])"
            ]
          },
          "metadata": {
            "tags": []
          },
          "execution_count": 26
        }
      ]
    },
    {
      "cell_type": "markdown",
      "metadata": {
        "id": "NJy-SO1nYhFu",
        "colab_type": "text"
      },
      "source": [
        "## Evaluation Metrics and Loss function "
      ]
    },
    {
      "cell_type": "code",
      "metadata": {
        "id": "TCLSN_JP_Q71",
        "colab_type": "code",
        "colab": {
          "base_uri": "https://localhost:8080/",
          "height": 35
        },
        "outputId": "5232cfa2-84ad-4106-e4a0-70e0ee4816df"
      },
      "source": [
        "def accuracy(outputs, labels):\n",
        "    _, preds = torch.max(outputs, dim=1)\n",
        "    return torch.tensor(torch.sum(preds == labels).item() / len(preds))\n",
        "\n",
        "accuracy(outputs, labels)"
      ],
      "execution_count": 29,
      "outputs": [
        {
          "output_type": "execute_result",
          "data": {
            "text/plain": [
              "tensor(0.1406)"
            ]
          },
          "metadata": {
            "tags": []
          },
          "execution_count": 29
        }
      ]
    },
    {
      "cell_type": "code",
      "metadata": {
        "id": "xEey_VtG_oZU",
        "colab_type": "code",
        "colab": {
          "base_uri": "https://localhost:8080/",
          "height": 35
        },
        "outputId": "2649f3a1-bbff-45c5-e1fd-b59ae130a577"
      },
      "source": [
        "loss_fn = F.cross_entropy\n",
        "\n",
        "# loss for the current batch of data\n",
        "loss = loss_fn(outputs, labels); loss"
      ],
      "execution_count": 31,
      "outputs": [
        {
          "output_type": "execute_result",
          "data": {
            "text/plain": [
              "tensor(2.3025, grad_fn=<NllLossBackward>)"
            ]
          },
          "metadata": {
            "tags": []
          },
          "execution_count": 31
        }
      ]
    },
    {
      "cell_type": "markdown",
      "metadata": {
        "id": "C7fg3gIsD6Hy",
        "colab_type": "text"
      },
      "source": [
        "## Model Training"
      ]
    },
    {
      "cell_type": "code",
      "metadata": {
        "id": "lhUX3qPlEQcg",
        "colab_type": "code",
        "colab": {}
      },
      "source": [
        "# Make model class again\n",
        "class MnistModel(nn.Module):\n",
        "    \n",
        "    def __init__(self):\n",
        "        super().__init__()\n",
        "        self.linear = nn.Linear(input_size, num_classes, bias=True)\n",
        "\n",
        "    def forward(self, xb):\n",
        "        xb = xb.reshape(-1, 784)\n",
        "        out = self.linear(xb)\n",
        "        return out\n",
        "    \n",
        "    def training_step(self, batch):\n",
        "        images, labels = batch\n",
        "        out = self(images) # model(input)\n",
        "        loss = F.cross_entropy(out, labels)\n",
        "        return loss\n",
        "\n",
        "    def validation_step(self, batch):\n",
        "        images, labels = batch\n",
        "        out = self(images)\n",
        "        loss = F.cross_entropy(out, labels)\n",
        "        acc = accuracy(out, labels)\n",
        "        return {'val_loss': loss, 'val_acc': acc} # dict\n",
        "\n",
        "    def validation_epoch_end(self, outputs):\n",
        "        batch_losses = [x['val_loss'] for x in outputs]\n",
        "        epoch_loss = torch.stack(batch_losses).mean()\n",
        "        batch_acc = [x['val_acc'] for x in outputs]\n",
        "        epoch_acc = torch.stack(batch_acc).mean()\n",
        "        return {'val_loss': epoch_loss.item(), 'val_acc': epoch_acc.item()}\n",
        "\n",
        "    def epoch_end(self, epoch, result):\n",
        "        print('Epoch {}, val_loss = {:.4f}, val_acc = {:.4f}'.format(epoch, result['val_loss'], result['val_acc']))\n",
        "\n",
        "model = MnistModel()"
      ],
      "execution_count": 0,
      "outputs": []
    },
    {
      "cell_type": "code",
      "metadata": {
        "id": "OWcN4-A-K_L5",
        "colab_type": "code",
        "colab": {}
      },
      "source": [
        "def evaluate(model, val_loader):\n",
        "    outputs = [model.validation_step(batch) for batch in val_loader]\n",
        "    return model.validation_epoch_end(outputs)\n",
        "\n",
        "def fit(model, train_loader, val_loader, epochs, lr, opt_func=torch.optim.SGD):\n",
        "    history = []\n",
        "    optimizer = opt_func(model.parameters(), lr)\n",
        "    for epoch in range(epochs):\n",
        "        # training\n",
        "        for batch in train_loader:\n",
        "            loss = model.training_step(batch)\n",
        "            loss.backward()\n",
        "            optimizer.step()\n",
        "            optimizer.zero_grad()\n",
        "        # validation\n",
        "        result = evaluate(model, val_loader)\n",
        "        model.epoch_end(epoch, result)\n",
        "        history.append(result)\n",
        "    return history"
      ],
      "execution_count": 0,
      "outputs": []
    },
    {
      "cell_type": "code",
      "metadata": {
        "id": "iWYd2BLUNFkI",
        "colab_type": "code",
        "colab": {
          "base_uri": "https://localhost:8080/",
          "height": 35
        },
        "outputId": "f611e9a0-a779-4e72-fbed-1d3d6f0190fc"
      },
      "source": [
        "result0 = evaluate(model, val_loader)\n",
        "result0"
      ],
      "execution_count": 45,
      "outputs": [
        {
          "output_type": "execute_result",
          "data": {
            "text/plain": [
              "{'val_acc': 0.14309731125831604, 'val_loss': 2.2986984252929688}"
            ]
          },
          "metadata": {
            "tags": []
          },
          "execution_count": 45
        }
      ]
    },
    {
      "cell_type": "code",
      "metadata": {
        "id": "l33WdwxVOwsc",
        "colab_type": "code",
        "colab": {
          "base_uri": "https://localhost:8080/",
          "height": 197
        },
        "outputId": "0e7d4037-fd5e-4a29-9820-d31a2bcb6167"
      },
      "source": [
        "history1 = fit(model, train_loader, val_loader, 10, 0.001)"
      ],
      "execution_count": 46,
      "outputs": [
        {
          "output_type": "stream",
          "text": [
            "Epoch 0, val_loss = 1.9335, val_acc = 0.6055\n",
            "Epoch 1, val_loss = 1.6697, val_acc = 0.7182\n",
            "Epoch 2, val_loss = 1.4729, val_acc = 0.7599\n",
            "Epoch 3, val_loss = 1.3243, val_acc = 0.7799\n",
            "Epoch 4, val_loss = 1.2099, val_acc = 0.7930\n",
            "Epoch 5, val_loss = 1.1199, val_acc = 0.8027\n",
            "Epoch 6, val_loss = 1.0476, val_acc = 0.8094\n",
            "Epoch 7, val_loss = 0.9884, val_acc = 0.8146\n",
            "Epoch 8, val_loss = 0.9391, val_acc = 0.8197\n",
            "Epoch 9, val_loss = 0.8973, val_acc = 0.8246\n"
          ],
          "name": "stdout"
        }
      ]
    },
    {
      "cell_type": "code",
      "metadata": {
        "id": "0PbMDbz-Pfbc",
        "colab_type": "code",
        "colab": {
          "base_uri": "https://localhost:8080/",
          "height": 377
        },
        "outputId": "17c262c8-a962-4d1e-d1f5-ef41ecf79e38"
      },
      "source": [
        "history2 = fit(model, train_loader, val_loader, 20, 0.001)"
      ],
      "execution_count": 47,
      "outputs": [
        {
          "output_type": "stream",
          "text": [
            "Epoch 0, val_loss = 0.8616, val_acc = 0.8282\n",
            "Epoch 1, val_loss = 0.8306, val_acc = 0.8318\n",
            "Epoch 2, val_loss = 0.8034, val_acc = 0.8340\n",
            "Epoch 3, val_loss = 0.7794, val_acc = 0.8368\n",
            "Epoch 4, val_loss = 0.7580, val_acc = 0.8398\n",
            "Epoch 5, val_loss = 0.7388, val_acc = 0.8419\n",
            "Epoch 6, val_loss = 0.7215, val_acc = 0.8433\n",
            "Epoch 7, val_loss = 0.7057, val_acc = 0.8457\n",
            "Epoch 8, val_loss = 0.6914, val_acc = 0.8471\n",
            "Epoch 9, val_loss = 0.6782, val_acc = 0.8489\n",
            "Epoch 10, val_loss = 0.6662, val_acc = 0.8506\n",
            "Epoch 11, val_loss = 0.6550, val_acc = 0.8521\n",
            "Epoch 12, val_loss = 0.6446, val_acc = 0.8534\n",
            "Epoch 13, val_loss = 0.6350, val_acc = 0.8554\n",
            "Epoch 14, val_loss = 0.6259, val_acc = 0.8559\n",
            "Epoch 15, val_loss = 0.6175, val_acc = 0.8568\n",
            "Epoch 16, val_loss = 0.6096, val_acc = 0.8579\n",
            "Epoch 17, val_loss = 0.6022, val_acc = 0.8589\n",
            "Epoch 18, val_loss = 0.5952, val_acc = 0.8596\n",
            "Epoch 19, val_loss = 0.5886, val_acc = 0.8606\n"
          ],
          "name": "stdout"
        }
      ]
    },
    {
      "cell_type": "markdown",
      "metadata": {
        "id": "NNtCPBkmQGI_",
        "colab_type": "text"
      },
      "source": [
        "## Plottong training history"
      ]
    },
    {
      "cell_type": "code",
      "metadata": {
        "id": "lwdYyV2MQP-w",
        "colab_type": "code",
        "colab": {
          "base_uri": "https://localhost:8080/",
          "height": 313
        },
        "outputId": "5d000a46-04ab-4f82-a50c-f56c4e9078d7"
      },
      "source": [
        "history = [result0] + history1 + history2\n",
        "accuracies = [result['val_acc'] for result in history]\n",
        "plt.plot(accuracies, '-x')\n",
        "plt.xlabel('epoch')\n",
        "plt.ylabel('accuracy')\n",
        "plt.title('training history')"
      ],
      "execution_count": 48,
      "outputs": [
        {
          "output_type": "execute_result",
          "data": {
            "text/plain": [
              "Text(0.5, 1.0, 'training history')"
            ]
          },
          "metadata": {
            "tags": []
          },
          "execution_count": 48
        },
        {
          "output_type": "display_data",
          "data": {
            "image/png": "[encoded data removed]",
            "text/plain": [
              "<Figure size 432x288 with 1 Axes>"
            ]
          },
          "metadata": {
            "tags": [],
            "needs_background": "light"
          }
        }
      ]
    },
    {
      "cell_type": "markdown",
      "metadata": {
        "id": "_GuxttpEQyUv",
        "colab_type": "text"
      },
      "source": [
        "## Testing"
      ]
    },
    {
      "cell_type": "code",
      "metadata": {
        "id": "FrmxjFO1RcD7",
        "colab_type": "code",
        "colab": {}
      },
      "source": [
        "test_dataset = MNIST(root='data/', train=False, transform=transforms.ToTensor())"
      ],
      "execution_count": 0,
      "outputs": []
    },
    {
      "cell_type": "code",
      "metadata": {
        "id": "dVkmL8wwRrhG",
        "colab_type": "code",
        "colab": {
          "base_uri": "https://localhost:8080/",
          "height": 283
        },
        "outputId": "7d369f79-0871-43d9-82cc-f5abfd9ea7af"
      },
      "source": [
        "img, label = test_dataset[0]\n",
        "plt.imshow(img[0], cmap='gray')\n",
        "print(label)"
      ],
      "execution_count": 52,
      "outputs": [
        {
          "output_type": "stream",
          "text": [
            "7\n"
          ],
          "name": "stdout"
        },
        {
          "output_type": "display_data",
          "data": {
            "image/png": "[encoded data removed]",
            "text/plain": [
              "<Figure size 432x288 with 1 Axes>"
            ]
          },
          "metadata": {
            "tags": [],
            "needs_background": "light"
          }
        }
      ]
    },
    {
      "cell_type": "code",
      "metadata": {
        "id": "Gj-tgdPRRxls",
        "colab_type": "code",
        "colab": {
          "base_uri": "https://localhost:8080/",
          "height": 35
        },
        "outputId": "2409f2e7-2baa-4f4b-d40c-c2a702128c59"
      },
      "source": [
        "img.unsqueeze(0).shape, img.shape"
      ],
      "execution_count": 57,
      "outputs": [
        {
          "output_type": "execute_result",
          "data": {
            "text/plain": [
              "(torch.Size([1, 1, 28, 28]), torch.Size([1, 28, 28]))"
            ]
          },
          "metadata": {
            "tags": []
          },
          "execution_count": 57
        }
      ]
    },
    {
      "cell_type": "code",
      "metadata": {
        "id": "d9mRBzKYSGdd",
        "colab_type": "code",
        "colab": {
          "base_uri": "https://localhost:8080/",
          "height": 283
        },
        "outputId": "bd9aad3c-3e76-492d-a56b-2cca121ad5f9"
      },
      "source": [
        "def predict_image(img, model):\n",
        "    xb = img.unsqueeze(0)\n",
        "    yb = model(xb)\n",
        "    _, preds = torch.max(yb, dim=1)\n",
        "    return preds[0].item()\n",
        "\n",
        "img, label = test_dataset[0]\n",
        "plt.imshow(img[0])\n",
        "print('label: ',label)"
      ],
      "execution_count": 60,
      "outputs": [
        {
          "output_type": "stream",
          "text": [
            "label:  7\n"
          ],
          "name": "stdout"
        },
        {
          "output_type": "display_data",
          "data": {
            "image/png": "[encoded data removed]",
            "text/plain": [
              "<Figure size 432x288 with 1 Axes>"
            ]
          },
          "metadata": {
            "tags": [],
            "needs_background": "light"
          }
        }
      ]
    },
    {
      "cell_type": "code",
      "metadata": {
        "id": "WMGpJANpTW4O",
        "colab_type": "code",
        "colab": {
          "base_uri": "https://localhost:8080/",
          "height": 35
        },
        "outputId": "6c4453b4-66fc-45fe-957e-8bc516d5100e"
      },
      "source": [
        "predict_image(img, model)"
      ],
      "execution_count": 61,
      "outputs": [
        {
          "output_type": "execute_result",
          "data": {
            "text/plain": [
              "7"
            ]
          },
          "metadata": {
            "tags": []
          },
          "execution_count": 61
        }
      ]
    },
    {
      "cell_type": "markdown",
      "metadata": {
        "id": "bwbRKDUtTmMB",
        "colab_type": "text"
      },
      "source": [
        "Yaay"
      ]
    },
    {
      "cell_type": "markdown",
      "metadata": {
        "id": "mWzlvv3tTpAd",
        "colab_type": "text"
      },
      "source": [
        "## Overall accuracy against test set"
      ]
    },
    {
      "cell_type": "code",
      "metadata": {
        "id": "XcGhXh_lTyUp",
        "colab_type": "code",
        "colab": {
          "base_uri": "https://localhost:8080/",
          "height": 35
        },
        "outputId": "53235c98-d5eb-4d17-c468-604de944ec1b"
      },
      "source": [
        "test_loader = DataLoader(test_dataset, batch_size=128)\n",
        "result = evaluate(model, test_loader)\n",
        "result"
      ],
      "execution_count": 62,
      "outputs": [
        {
          "output_type": "execute_result",
          "data": {
            "text/plain": [
              "{'val_acc': 0.871835470199585, 'val_loss': 0.5532974600791931}"
            ]
          },
          "metadata": {
            "tags": []
          },
          "execution_count": 62
        }
      ]
    },
    {
      "cell_type": "markdown",
      "metadata": {
        "id": "Y3-aAxXMUAzE",
        "colab_type": "text"
      },
      "source": [
        "## Save the model"
      ]
    },
    {
      "cell_type": "code",
      "metadata": {
        "id": "FYISrTZ2UGbM",
        "colab_type": "code",
        "colab": {}
      },
      "source": [
        "torch.save(model.state_dict(), 'mnist-logistics.pth')"
      ],
      "execution_count": 0,
      "outputs": []
    },
    {
      "cell_type": "markdown",
      "metadata": {
        "id": "53WhB5KHUdHV",
        "colab_type": "text"
      },
      "source": [
        "The .state_dict method returns an OrderedDict containing all the weights and bias matrices mapped to the right attributes of the model."
      ]
    },
    {
      "cell_type": "code",
      "metadata": {
        "id": "gaDqbF6jUel3",
        "colab_type": "code",
        "colab": {
          "base_uri": "https://localhost:8080/",
          "height": 215
        },
        "outputId": "edcdd6a4-1717-4254-948c-10e73ccdea8f"
      },
      "source": [
        "model.state_dict()"
      ],
      "execution_count": 64,
      "outputs": [
        {
          "output_type": "execute_result",
          "data": {
            "text/plain": [
              "OrderedDict([('linear.weight',\n",
              "              tensor([[-0.0269,  0.0117,  0.0159,  ...,  0.0148,  0.0212,  0.0021],\n",
              "                      [-0.0317, -0.0217, -0.0310,  ..., -0.0251,  0.0304,  0.0107],\n",
              "                      [-0.0250,  0.0207, -0.0332,  ..., -0.0006,  0.0179, -0.0003],\n",
              "                      ...,\n",
              "                      [-0.0269,  0.0124, -0.0229,  ...,  0.0126, -0.0073,  0.0286],\n",
              "                      [-0.0120,  0.0134, -0.0356,  ...,  0.0294, -0.0040, -0.0180],\n",
              "                      [-0.0130,  0.0145, -0.0006,  ..., -0.0211,  0.0198, -0.0222]])),\n",
              "             ('linear.bias',\n",
              "              tensor([-0.0428,  0.0836, -0.0032, -0.0169,  0.0114,  0.0441, -0.0306,  0.0429,\n",
              "                      -0.1570, -0.0271]))])"
            ]
          },
          "metadata": {
            "tags": []
          },
          "execution_count": 64
        }
      ]
    },
    {
      "cell_type": "markdown",
      "metadata": {
        "id": "RSdTpPbkUi1w",
        "colab_type": "text"
      },
      "source": [
        "## Loading the Model\n",
        "To load the model weights, instantiate a new object of the class MnistModel, and use the .load_state_dict method.\n",
        "\n"
      ]
    },
    {
      "cell_type": "code",
      "metadata": {
        "id": "UmZO2Fs0UoxZ",
        "colab_type": "code",
        "colab": {
          "base_uri": "https://localhost:8080/",
          "height": 215
        },
        "outputId": "13f6f331-4547-44e1-b5cf-7859585c9ef0"
      },
      "source": [
        "model2 = MnistModel()\n",
        "model2.load_state_dict(torch.load('mnist-logistics.pth'))\n",
        "model2.state_dict()"
      ],
      "execution_count": 65,
      "outputs": [
        {
          "output_type": "execute_result",
          "data": {
            "text/plain": [
              "OrderedDict([('linear.weight',\n",
              "              tensor([[-0.0269,  0.0117,  0.0159,  ...,  0.0148,  0.0212,  0.0021],\n",
              "                      [-0.0317, -0.0217, -0.0310,  ..., -0.0251,  0.0304,  0.0107],\n",
              "                      [-0.0250,  0.0207, -0.0332,  ..., -0.0006,  0.0179, -0.0003],\n",
              "                      ...,\n",
              "                      [-0.0269,  0.0124, -0.0229,  ...,  0.0126, -0.0073,  0.0286],\n",
              "                      [-0.0120,  0.0134, -0.0356,  ...,  0.0294, -0.0040, -0.0180],\n",
              "                      [-0.0130,  0.0145, -0.0006,  ..., -0.0211,  0.0198, -0.0222]])),\n",
              "             ('linear.bias',\n",
              "              tensor([-0.0428,  0.0836, -0.0032, -0.0169,  0.0114,  0.0441, -0.0306,  0.0429,\n",
              "                      -0.1570, -0.0271]))])"
            ]
          },
          "metadata": {
            "tags": []
          },
          "execution_count": 65
        }
      ]
    },
    {
      "cell_type": "markdown",
      "metadata": {
        "id": "ZiEkB6EMVGVI",
        "colab_type": "text"
      },
      "source": [
        "Okay, cool"
      ]
    },
    {
      "cell_type": "code",
      "metadata": {
        "id": "mVSvjPTyVIPQ",
        "colab_type": "code",
        "colab": {}
      },
      "source": [
        ""
      ],
      "execution_count": 0,
      "outputs": []
    }
  ]
}
